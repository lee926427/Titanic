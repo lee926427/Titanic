{
 "cells": [
  {
   "cell_type": "code",
   "execution_count": 4,
   "metadata": {},
   "outputs": [],
   "source": [
    "from sklearn import preprocessing\n",
    "from sklearn.model_selection import GridSearchCV\n",
    "from sklearn.ensemble import RandomForestClassifier\n",
    "from sklearn.ensemble import RandomForestRegressor\n",
    "\n",
    "import warnings\n",
    "import pandas as pd\n",
    "import numpy as np\n",
    "import matplotlib.pyplot as plot\n",
    "import seaborn as sns\n",
    "\n",
    "%matplotlib inline"
   ]
  },
  {
   "cell_type": "code",
   "execution_count": 5,
   "metadata": {},
   "outputs": [],
   "source": [
    "train = pd.read_csv('datasets/train.csv')\n",
    "test = pd.read_csv('datasets/test.csv')\n",
    "submit = pd.read_csv('datasets/gender_submission.csv')"
   ]
  },
  {
   "cell_type": "code",
   "execution_count": 6,
   "metadata": {},
   "outputs": [
    {
     "name": "stdout",
     "output_type": "stream",
     "text": [
      "<class 'pandas.core.frame.DataFrame'>\n",
      "RangeIndex: 891 entries, 0 to 890\n",
      "Data columns (total 12 columns):\n",
      "PassengerId    891 non-null int64\n",
      "Survived       891 non-null int64\n",
      "Pclass         891 non-null int64\n",
      "Name           891 non-null object\n",
      "Sex            891 non-null object\n",
      "Age            714 non-null float64\n",
      "SibSp          891 non-null int64\n",
      "Parch          891 non-null int64\n",
      "Ticket         891 non-null object\n",
      "Fare           891 non-null float64\n",
      "Cabin          204 non-null object\n",
      "Embarked       889 non-null object\n",
      "dtypes: float64(2), int64(5), object(5)\n",
      "memory usage: 83.6+ KB\n"
     ]
    }
   ],
   "source": [
    "train.info()"
   ]
  },
  {
   "cell_type": "code",
   "execution_count": 7,
   "metadata": {},
   "outputs": [
    {
     "data": {
      "text/html": [
       "<div>\n",
       "<style scoped>\n",
       "    .dataframe tbody tr th:only-of-type {\n",
       "        vertical-align: middle;\n",
       "    }\n",
       "\n",
       "    .dataframe tbody tr th {\n",
       "        vertical-align: top;\n",
       "    }\n",
       "\n",
       "    .dataframe thead th {\n",
       "        text-align: right;\n",
       "    }\n",
       "</style>\n",
       "<table border=\"1\" class=\"dataframe\">\n",
       "  <thead>\n",
       "    <tr style=\"text-align: right;\">\n",
       "      <th></th>\n",
       "      <th>PassengerId</th>\n",
       "      <th>Survived</th>\n",
       "      <th>Pclass</th>\n",
       "      <th>Age</th>\n",
       "      <th>SibSp</th>\n",
       "      <th>Parch</th>\n",
       "      <th>Fare</th>\n",
       "    </tr>\n",
       "  </thead>\n",
       "  <tbody>\n",
       "    <tr>\n",
       "      <th>count</th>\n",
       "      <td>891.000000</td>\n",
       "      <td>891.000000</td>\n",
       "      <td>891.000000</td>\n",
       "      <td>714.000000</td>\n",
       "      <td>891.000000</td>\n",
       "      <td>891.000000</td>\n",
       "      <td>891.000000</td>\n",
       "    </tr>\n",
       "    <tr>\n",
       "      <th>mean</th>\n",
       "      <td>446.000000</td>\n",
       "      <td>0.383838</td>\n",
       "      <td>2.308642</td>\n",
       "      <td>29.699118</td>\n",
       "      <td>0.523008</td>\n",
       "      <td>0.381594</td>\n",
       "      <td>32.204208</td>\n",
       "    </tr>\n",
       "    <tr>\n",
       "      <th>std</th>\n",
       "      <td>257.353842</td>\n",
       "      <td>0.486592</td>\n",
       "      <td>0.836071</td>\n",
       "      <td>14.526497</td>\n",
       "      <td>1.102743</td>\n",
       "      <td>0.806057</td>\n",
       "      <td>49.693429</td>\n",
       "    </tr>\n",
       "    <tr>\n",
       "      <th>min</th>\n",
       "      <td>1.000000</td>\n",
       "      <td>0.000000</td>\n",
       "      <td>1.000000</td>\n",
       "      <td>0.420000</td>\n",
       "      <td>0.000000</td>\n",
       "      <td>0.000000</td>\n",
       "      <td>0.000000</td>\n",
       "    </tr>\n",
       "    <tr>\n",
       "      <th>25%</th>\n",
       "      <td>223.500000</td>\n",
       "      <td>0.000000</td>\n",
       "      <td>2.000000</td>\n",
       "      <td>20.125000</td>\n",
       "      <td>0.000000</td>\n",
       "      <td>0.000000</td>\n",
       "      <td>7.910400</td>\n",
       "    </tr>\n",
       "    <tr>\n",
       "      <th>50%</th>\n",
       "      <td>446.000000</td>\n",
       "      <td>0.000000</td>\n",
       "      <td>3.000000</td>\n",
       "      <td>28.000000</td>\n",
       "      <td>0.000000</td>\n",
       "      <td>0.000000</td>\n",
       "      <td>14.454200</td>\n",
       "    </tr>\n",
       "    <tr>\n",
       "      <th>75%</th>\n",
       "      <td>668.500000</td>\n",
       "      <td>1.000000</td>\n",
       "      <td>3.000000</td>\n",
       "      <td>38.000000</td>\n",
       "      <td>1.000000</td>\n",
       "      <td>0.000000</td>\n",
       "      <td>31.000000</td>\n",
       "    </tr>\n",
       "    <tr>\n",
       "      <th>max</th>\n",
       "      <td>891.000000</td>\n",
       "      <td>1.000000</td>\n",
       "      <td>3.000000</td>\n",
       "      <td>80.000000</td>\n",
       "      <td>8.000000</td>\n",
       "      <td>6.000000</td>\n",
       "      <td>512.329200</td>\n",
       "    </tr>\n",
       "  </tbody>\n",
       "</table>\n",
       "</div>"
      ],
      "text/plain": [
       "       PassengerId    Survived      Pclass         Age       SibSp  \\\n",
       "count   891.000000  891.000000  891.000000  714.000000  891.000000   \n",
       "mean    446.000000    0.383838    2.308642   29.699118    0.523008   \n",
       "std     257.353842    0.486592    0.836071   14.526497    1.102743   \n",
       "min       1.000000    0.000000    1.000000    0.420000    0.000000   \n",
       "25%     223.500000    0.000000    2.000000   20.125000    0.000000   \n",
       "50%     446.000000    0.000000    3.000000   28.000000    0.000000   \n",
       "75%     668.500000    1.000000    3.000000   38.000000    1.000000   \n",
       "max     891.000000    1.000000    3.000000   80.000000    8.000000   \n",
       "\n",
       "            Parch        Fare  \n",
       "count  891.000000  891.000000  \n",
       "mean     0.381594   32.204208  \n",
       "std      0.806057   49.693429  \n",
       "min      0.000000    0.000000  \n",
       "25%      0.000000    7.910400  \n",
       "50%      0.000000   14.454200  \n",
       "75%      0.000000   31.000000  \n",
       "max      6.000000  512.329200  "
      ]
     },
     "execution_count": 7,
     "metadata": {},
     "output_type": "execute_result"
    }
   ],
   "source": [
    "train.describe()"
   ]
  },
  {
   "cell_type": "code",
   "execution_count": 8,
   "metadata": {},
   "outputs": [],
   "source": [
    "data = train.append(test,sort=True)"
   ]
  },
  {
   "cell_type": "code",
   "execution_count": 9,
   "metadata": {},
   "outputs": [
    {
     "data": {
      "text/plain": [
       "<matplotlib.axes._subplots.AxesSubplot at 0xacde630>"
      ]
     },
     "execution_count": 9,
     "metadata": {},
     "output_type": "execute_result"
    },
    {
     "data": {
      "image/png": "[encoded data removed]",
      "text/plain": [
       "<Figure size 432x288 with 1 Axes>"
      ]
     },
     "metadata": {
      "needs_background": "light"
     },
     "output_type": "display_data"
    }
   ],
   "source": [
    "sns.countplot(data['Pclass'], hue=data['Survived'])"
   ]
  },
  {
   "cell_type": "code",
   "execution_count": 10,
   "metadata": {},
   "outputs": [
    {
     "data": {
      "text/plain": [
       "<matplotlib.axes._subplots.AxesSubplot at 0xaff94a8>"
      ]
     },
     "execution_count": 10,
     "metadata": {},
     "output_type": "execute_result"
    },
    {
     "data": {
      "image/png": "[encoded data removed]",
      "text/plain": [
       "<Figure size 432x288 with 1 Axes>"
      ]
     },
     "metadata": {
      "needs_background": "light"
     },
     "output_type": "display_data"
    }
   ],
   "source": [
    "sns.countplot(data['Sex'], hue=data['Survived'])"
   ]
  },
  {
   "cell_type": "code",
   "execution_count": 11,
   "metadata": {},
   "outputs": [
    {
     "name": "stderr",
     "output_type": "stream",
     "text": [
      "D:\\Program Files\\Anaconda3\\lib\\site-packages\\scipy\\stats\\stats.py:1713: FutureWarning: Using a non-tuple sequence for multidimensional indexing is deprecated; use `arr[tuple(seq)]` instead of `arr[seq]`. In the future this will be interpreted as an array index, `arr[np.array(seq)]`, which will result either in an error or a different result.\n",
      "  return np.add.reduce(sorted[indexer] * weights, axis=axis) / sumval\n"
     ]
    },
    {
     "data": {
      "text/plain": [
       "<seaborn.axisgrid.FacetGrid at 0xacb6a20>"
      ]
     },
     "execution_count": 11,
     "metadata": {},
     "output_type": "execute_result"
    },
    {
     "data": {
      "image/png": "[encoded data removed]",
      "text/plain": [
       "<Figure size 432x216 with 2 Axes>"
      ]
     },
     "metadata": {
      "needs_background": "light"
     },
     "output_type": "display_data"
    }
   ],
   "source": [
    "data['Family_Size'] = data['Parch'] + data['SibSp']\n",
    "g = sns.FacetGrid(data, col='Survived')\n",
    "g.map(sns.distplot, 'Family_Size', kde=False)"
   ]
  },
  {
   "cell_type": "code",
   "execution_count": 12,
   "metadata": {},
   "outputs": [],
   "source": [
    "data['Title1'] = data['Name'].str.split(',' ,expand=True)[1]"
   ]
  },
  {
   "cell_type": "code",
   "execution_count": 13,
   "metadata": {},
   "outputs": [
    {
     "data": {
      "text/html": [
       "<div>\n",
       "<style scoped>\n",
       "    .dataframe tbody tr th:only-of-type {\n",
       "        vertical-align: middle;\n",
       "    }\n",
       "\n",
       "    .dataframe tbody tr th {\n",
       "        vertical-align: top;\n",
       "    }\n",
       "\n",
       "    .dataframe thead th {\n",
       "        text-align: right;\n",
       "    }\n",
       "</style>\n",
       "<table border=\"1\" class=\"dataframe\">\n",
       "  <thead>\n",
       "    <tr style=\"text-align: right;\">\n",
       "      <th></th>\n",
       "      <th>0</th>\n",
       "      <th>1</th>\n",
       "    </tr>\n",
       "  </thead>\n",
       "  <tbody>\n",
       "    <tr>\n",
       "      <th>0</th>\n",
       "      <td>Braund</td>\n",
       "      <td>Mr. Owen Harris</td>\n",
       "    </tr>\n",
       "    <tr>\n",
       "      <th>1</th>\n",
       "      <td>Cumings</td>\n",
       "      <td>Mrs. John Bradley (Florence Briggs Thayer)</td>\n",
       "    </tr>\n",
       "    <tr>\n",
       "      <th>2</th>\n",
       "      <td>Heikkinen</td>\n",
       "      <td>Miss. Laina</td>\n",
       "    </tr>\n",
       "    <tr>\n",
       "      <th>3</th>\n",
       "      <td>Futrelle</td>\n",
       "      <td>Mrs. Jacques Heath (Lily May Peel)</td>\n",
       "    </tr>\n",
       "    <tr>\n",
       "      <th>4</th>\n",
       "      <td>Allen</td>\n",
       "      <td>Mr. William Henry</td>\n",
       "    </tr>\n",
       "  </tbody>\n",
       "</table>\n",
       "</div>"
      ],
      "text/plain": [
       "           0                                            1\n",
       "0     Braund                              Mr. Owen Harris\n",
       "1    Cumings   Mrs. John Bradley (Florence Briggs Thayer)\n",
       "2  Heikkinen                                  Miss. Laina\n",
       "3   Futrelle           Mrs. Jacques Heath (Lily May Peel)\n",
       "4      Allen                            Mr. William Henry"
      ]
     },
     "execution_count": 13,
     "metadata": {},
     "output_type": "execute_result"
    }
   ],
   "source": [
    "data['Name'].str.split(\",\" ,expand=True).head()"
   ]
  },
  {
   "cell_type": "code",
   "execution_count": 14,
   "metadata": {},
   "outputs": [],
   "source": [
    "data['Title1'] = data['Title1'].str.split('.' ,expand=True)[0]"
   ]
  },
  {
   "cell_type": "code",
   "execution_count": 15,
   "metadata": {},
   "outputs": [
    {
     "data": {
      "text/html": [
       "<style  type=\"text/css\" >\n",
       "    #T_b0c420c0_eb26_11e8_9fca_4ccc6a0cc2e1row0_col0 {\n",
       "            background-color:  #ffff66;\n",
       "        }    #T_b0c420c0_eb26_11e8_9fca_4ccc6a0cc2e1row0_col1 {\n",
       "            background-color:  #ffff66;\n",
       "        }    #T_b0c420c0_eb26_11e8_9fca_4ccc6a0cc2e1row0_col2 {\n",
       "            background-color:  #ffff66;\n",
       "        }    #T_b0c420c0_eb26_11e8_9fca_4ccc6a0cc2e1row0_col3 {\n",
       "            background-color:  #008066;\n",
       "        }    #T_b0c420c0_eb26_11e8_9fca_4ccc6a0cc2e1row0_col4 {\n",
       "            background-color:  #ffff66;\n",
       "        }    #T_b0c420c0_eb26_11e8_9fca_4ccc6a0cc2e1row0_col5 {\n",
       "            background-color:  #ffff66;\n",
       "        }    #T_b0c420c0_eb26_11e8_9fca_4ccc6a0cc2e1row0_col6 {\n",
       "            background-color:  #008066;\n",
       "        }    #T_b0c420c0_eb26_11e8_9fca_4ccc6a0cc2e1row0_col7 {\n",
       "            background-color:  #ffff66;\n",
       "        }    #T_b0c420c0_eb26_11e8_9fca_4ccc6a0cc2e1row0_col8 {\n",
       "            background-color:  #ffff66;\n",
       "        }    #T_b0c420c0_eb26_11e8_9fca_4ccc6a0cc2e1row0_col9 {\n",
       "            background-color:  #008066;\n",
       "        }    #T_b0c420c0_eb26_11e8_9fca_4ccc6a0cc2e1row0_col10 {\n",
       "            background-color:  #008066;\n",
       "        }    #T_b0c420c0_eb26_11e8_9fca_4ccc6a0cc2e1row0_col11 {\n",
       "            background-color:  #008066;\n",
       "        }    #T_b0c420c0_eb26_11e8_9fca_4ccc6a0cc2e1row0_col12 {\n",
       "            background-color:  #ffff66;\n",
       "        }    #T_b0c420c0_eb26_11e8_9fca_4ccc6a0cc2e1row0_col13 {\n",
       "            background-color:  #008066;\n",
       "        }    #T_b0c420c0_eb26_11e8_9fca_4ccc6a0cc2e1row0_col14 {\n",
       "            background-color:  #008066;\n",
       "        }    #T_b0c420c0_eb26_11e8_9fca_4ccc6a0cc2e1row0_col15 {\n",
       "            background-color:  #ffff66;\n",
       "        }    #T_b0c420c0_eb26_11e8_9fca_4ccc6a0cc2e1row0_col16 {\n",
       "            background-color:  #ffff66;\n",
       "        }    #T_b0c420c0_eb26_11e8_9fca_4ccc6a0cc2e1row0_col17 {\n",
       "            background-color:  #008066;\n",
       "        }    #T_b0c420c0_eb26_11e8_9fca_4ccc6a0cc2e1row1_col0 {\n",
       "            background-color:  #008066;\n",
       "        }    #T_b0c420c0_eb26_11e8_9fca_4ccc6a0cc2e1row1_col1 {\n",
       "            background-color:  #008066;\n",
       "        }    #T_b0c420c0_eb26_11e8_9fca_4ccc6a0cc2e1row1_col2 {\n",
       "            background-color:  #008066;\n",
       "        }    #T_b0c420c0_eb26_11e8_9fca_4ccc6a0cc2e1row1_col3 {\n",
       "            background-color:  #ffff66;\n",
       "        }    #T_b0c420c0_eb26_11e8_9fca_4ccc6a0cc2e1row1_col4 {\n",
       "            background-color:  #008066;\n",
       "        }    #T_b0c420c0_eb26_11e8_9fca_4ccc6a0cc2e1row1_col5 {\n",
       "            background-color:  #008066;\n",
       "        }    #T_b0c420c0_eb26_11e8_9fca_4ccc6a0cc2e1row1_col6 {\n",
       "            background-color:  #ffff66;\n",
       "        }    #T_b0c420c0_eb26_11e8_9fca_4ccc6a0cc2e1row1_col7 {\n",
       "            background-color:  #008066;\n",
       "        }    #T_b0c420c0_eb26_11e8_9fca_4ccc6a0cc2e1row1_col8 {\n",
       "            background-color:  #008066;\n",
       "        }    #T_b0c420c0_eb26_11e8_9fca_4ccc6a0cc2e1row1_col9 {\n",
       "            background-color:  #ffff66;\n",
       "        }    #T_b0c420c0_eb26_11e8_9fca_4ccc6a0cc2e1row1_col10 {\n",
       "            background-color:  #ffff66;\n",
       "        }    #T_b0c420c0_eb26_11e8_9fca_4ccc6a0cc2e1row1_col11 {\n",
       "            background-color:  #ffff66;\n",
       "        }    #T_b0c420c0_eb26_11e8_9fca_4ccc6a0cc2e1row1_col12 {\n",
       "            background-color:  #008066;\n",
       "        }    #T_b0c420c0_eb26_11e8_9fca_4ccc6a0cc2e1row1_col13 {\n",
       "            background-color:  #ffff66;\n",
       "        }    #T_b0c420c0_eb26_11e8_9fca_4ccc6a0cc2e1row1_col14 {\n",
       "            background-color:  #ffff66;\n",
       "        }    #T_b0c420c0_eb26_11e8_9fca_4ccc6a0cc2e1row1_col15 {\n",
       "            background-color:  #008066;\n",
       "        }    #T_b0c420c0_eb26_11e8_9fca_4ccc6a0cc2e1row1_col16 {\n",
       "            background-color:  #008066;\n",
       "        }    #T_b0c420c0_eb26_11e8_9fca_4ccc6a0cc2e1row1_col17 {\n",
       "            background-color:  #ffff66;\n",
       "        }</style>  \n",
       "<table id=\"T_b0c420c0_eb26_11e8_9fca_4ccc6a0cc2e1\" > \n",
       "<thead>    <tr> \n",
       "        <th class=\"index_name level0\" >Title1</th> \n",
       "        <th class=\"col_heading level0 col0\" > Capt</th> \n",
       "        <th class=\"col_heading level0 col1\" > Col</th> \n",
       "        <th class=\"col_heading level0 col2\" > Don</th> \n",
       "        <th class=\"col_heading level0 col3\" > Dona</th> \n",
       "        <th class=\"col_heading level0 col4\" > Dr</th> \n",
       "        <th class=\"col_heading level0 col5\" > Jonkheer</th> \n",
       "        <th class=\"col_heading level0 col6\" > Lady</th> \n",
       "        <th class=\"col_heading level0 col7\" > Major</th> \n",
       "        <th class=\"col_heading level0 col8\" > Master</th> \n",
       "        <th class=\"col_heading level0 col9\" > Miss</th> \n",
       "        <th class=\"col_heading level0 col10\" > Mlle</th> \n",
       "        <th class=\"col_heading level0 col11\" > Mme</th> \n",
       "        <th class=\"col_heading level0 col12\" > Mr</th> \n",
       "        <th class=\"col_heading level0 col13\" > Mrs</th> \n",
       "        <th class=\"col_heading level0 col14\" > Ms</th> \n",
       "        <th class=\"col_heading level0 col15\" > Rev</th> \n",
       "        <th class=\"col_heading level0 col16\" > Sir</th> \n",
       "        <th class=\"col_heading level0 col17\" > the Countess</th> \n",
       "    </tr>    <tr> \n",
       "        <th class=\"index_name level0\" >Sex</th> \n",
       "        <th class=\"blank\" ></th> \n",
       "        <th class=\"blank\" ></th> \n",
       "        <th class=\"blank\" ></th> \n",
       "        <th class=\"blank\" ></th> \n",
       "        <th class=\"blank\" ></th> \n",
       "        <th class=\"blank\" ></th> \n",
       "        <th class=\"blank\" ></th> \n",
       "        <th class=\"blank\" ></th> \n",
       "        <th class=\"blank\" ></th> \n",
       "        <th class=\"blank\" ></th> \n",
       "        <th class=\"blank\" ></th> \n",
       "        <th class=\"blank\" ></th> \n",
       "        <th class=\"blank\" ></th> \n",
       "        <th class=\"blank\" ></th> \n",
       "        <th class=\"blank\" ></th> \n",
       "        <th class=\"blank\" ></th> \n",
       "        <th class=\"blank\" ></th> \n",
       "        <th class=\"blank\" ></th> \n",
       "    </tr></thead> \n",
       "<tbody>    <tr> \n",
       "        <th id=\"T_b0c420c0_eb26_11e8_9fca_4ccc6a0cc2e1level0_row0\" class=\"row_heading level0 row0\" >female</th> \n",
       "        <td id=\"T_b0c420c0_eb26_11e8_9fca_4ccc6a0cc2e1row0_col0\" class=\"data row0 col0\" >0</td> \n",
       "        <td id=\"T_b0c420c0_eb26_11e8_9fca_4ccc6a0cc2e1row0_col1\" class=\"data row0 col1\" >0</td> \n",
       "        <td id=\"T_b0c420c0_eb26_11e8_9fca_4ccc6a0cc2e1row0_col2\" class=\"data row0 col2\" >0</td> \n",
       "        <td id=\"T_b0c420c0_eb26_11e8_9fca_4ccc6a0cc2e1row0_col3\" class=\"data row0 col3\" >1</td> \n",
       "        <td id=\"T_b0c420c0_eb26_11e8_9fca_4ccc6a0cc2e1row0_col4\" class=\"data row0 col4\" >1</td> \n",
       "        <td id=\"T_b0c420c0_eb26_11e8_9fca_4ccc6a0cc2e1row0_col5\" class=\"data row0 col5\" >0</td> \n",
       "        <td id=\"T_b0c420c0_eb26_11e8_9fca_4ccc6a0cc2e1row0_col6\" class=\"data row0 col6\" >1</td> \n",
       "        <td id=\"T_b0c420c0_eb26_11e8_9fca_4ccc6a0cc2e1row0_col7\" class=\"data row0 col7\" >0</td> \n",
       "        <td id=\"T_b0c420c0_eb26_11e8_9fca_4ccc6a0cc2e1row0_col8\" class=\"data row0 col8\" >0</td> \n",
       "        <td id=\"T_b0c420c0_eb26_11e8_9fca_4ccc6a0cc2e1row0_col9\" class=\"data row0 col9\" >260</td> \n",
       "        <td id=\"T_b0c420c0_eb26_11e8_9fca_4ccc6a0cc2e1row0_col10\" class=\"data row0 col10\" >2</td> \n",
       "        <td id=\"T_b0c420c0_eb26_11e8_9fca_4ccc6a0cc2e1row0_col11\" class=\"data row0 col11\" >1</td> \n",
       "        <td id=\"T_b0c420c0_eb26_11e8_9fca_4ccc6a0cc2e1row0_col12\" class=\"data row0 col12\" >0</td> \n",
       "        <td id=\"T_b0c420c0_eb26_11e8_9fca_4ccc6a0cc2e1row0_col13\" class=\"data row0 col13\" >197</td> \n",
       "        <td id=\"T_b0c420c0_eb26_11e8_9fca_4ccc6a0cc2e1row0_col14\" class=\"data row0 col14\" >2</td> \n",
       "        <td id=\"T_b0c420c0_eb26_11e8_9fca_4ccc6a0cc2e1row0_col15\" class=\"data row0 col15\" >0</td> \n",
       "        <td id=\"T_b0c420c0_eb26_11e8_9fca_4ccc6a0cc2e1row0_col16\" class=\"data row0 col16\" >0</td> \n",
       "        <td id=\"T_b0c420c0_eb26_11e8_9fca_4ccc6a0cc2e1row0_col17\" class=\"data row0 col17\" >1</td> \n",
       "    </tr>    <tr> \n",
       "        <th id=\"T_b0c420c0_eb26_11e8_9fca_4ccc6a0cc2e1level0_row1\" class=\"row_heading level0 row1\" >male</th> \n",
       "        <td id=\"T_b0c420c0_eb26_11e8_9fca_4ccc6a0cc2e1row1_col0\" class=\"data row1 col0\" >1</td> \n",
       "        <td id=\"T_b0c420c0_eb26_11e8_9fca_4ccc6a0cc2e1row1_col1\" class=\"data row1 col1\" >4</td> \n",
       "        <td id=\"T_b0c420c0_eb26_11e8_9fca_4ccc6a0cc2e1row1_col2\" class=\"data row1 col2\" >1</td> \n",
       "        <td id=\"T_b0c420c0_eb26_11e8_9fca_4ccc6a0cc2e1row1_col3\" class=\"data row1 col3\" >0</td> \n",
       "        <td id=\"T_b0c420c0_eb26_11e8_9fca_4ccc6a0cc2e1row1_col4\" class=\"data row1 col4\" >7</td> \n",
       "        <td id=\"T_b0c420c0_eb26_11e8_9fca_4ccc6a0cc2e1row1_col5\" class=\"data row1 col5\" >1</td> \n",
       "        <td id=\"T_b0c420c0_eb26_11e8_9fca_4ccc6a0cc2e1row1_col6\" class=\"data row1 col6\" >0</td> \n",
       "        <td id=\"T_b0c420c0_eb26_11e8_9fca_4ccc6a0cc2e1row1_col7\" class=\"data row1 col7\" >2</td> \n",
       "        <td id=\"T_b0c420c0_eb26_11e8_9fca_4ccc6a0cc2e1row1_col8\" class=\"data row1 col8\" >61</td> \n",
       "        <td id=\"T_b0c420c0_eb26_11e8_9fca_4ccc6a0cc2e1row1_col9\" class=\"data row1 col9\" >0</td> \n",
       "        <td id=\"T_b0c420c0_eb26_11e8_9fca_4ccc6a0cc2e1row1_col10\" class=\"data row1 col10\" >0</td> \n",
       "        <td id=\"T_b0c420c0_eb26_11e8_9fca_4ccc6a0cc2e1row1_col11\" class=\"data row1 col11\" >0</td> \n",
       "        <td id=\"T_b0c420c0_eb26_11e8_9fca_4ccc6a0cc2e1row1_col12\" class=\"data row1 col12\" >757</td> \n",
       "        <td id=\"T_b0c420c0_eb26_11e8_9fca_4ccc6a0cc2e1row1_col13\" class=\"data row1 col13\" >0</td> \n",
       "        <td id=\"T_b0c420c0_eb26_11e8_9fca_4ccc6a0cc2e1row1_col14\" class=\"data row1 col14\" >0</td> \n",
       "        <td id=\"T_b0c420c0_eb26_11e8_9fca_4ccc6a0cc2e1row1_col15\" class=\"data row1 col15\" >8</td> \n",
       "        <td id=\"T_b0c420c0_eb26_11e8_9fca_4ccc6a0cc2e1row1_col16\" class=\"data row1 col16\" >1</td> \n",
       "        <td id=\"T_b0c420c0_eb26_11e8_9fca_4ccc6a0cc2e1row1_col17\" class=\"data row1 col17\" >0</td> \n",
       "    </tr></tbody> \n",
       "</table> "
      ],
      "text/plain": [
       "<pandas.io.formats.style.Styler at 0xb8eb908>"
      ]
     },
     "execution_count": 15,
     "metadata": {},
     "output_type": "execute_result"
    }
   ],
   "source": [
    "pd.crosstab(data['Title1'] ,data['Sex']).T.style.background_gradient(cmap='summer_r')"
   ]
  },
  {
   "cell_type": "code",
   "execution_count": 16,
   "metadata": {},
   "outputs": [
    {
     "data": {
      "text/html": [
       "<style  type=\"text/css\" >\n",
       "    #T_b1780a12_eb26_11e8_831c_4ccc6a0cc2e1row0_col0 {\n",
       "            background-color:  #008066;\n",
       "        }    #T_b1780a12_eb26_11e8_831c_4ccc6a0cc2e1row0_col1 {\n",
       "            background-color:  #ffff66;\n",
       "        }    #T_b1780a12_eb26_11e8_831c_4ccc6a0cc2e1row0_col2 {\n",
       "            background-color:  #008066;\n",
       "        }    #T_b1780a12_eb26_11e8_831c_4ccc6a0cc2e1row0_col3 {\n",
       "            background-color:  #008066;\n",
       "        }    #T_b1780a12_eb26_11e8_831c_4ccc6a0cc2e1row0_col4 {\n",
       "            background-color:  #008066;\n",
       "        }    #T_b1780a12_eb26_11e8_831c_4ccc6a0cc2e1row0_col5 {\n",
       "            background-color:  #ffff66;\n",
       "        }    #T_b1780a12_eb26_11e8_831c_4ccc6a0cc2e1row0_col6 {\n",
       "            background-color:  #ffff66;\n",
       "        }    #T_b1780a12_eb26_11e8_831c_4ccc6a0cc2e1row0_col7 {\n",
       "            background-color:  #ffff66;\n",
       "        }    #T_b1780a12_eb26_11e8_831c_4ccc6a0cc2e1row0_col8 {\n",
       "            background-color:  #ffff66;\n",
       "        }    #T_b1780a12_eb26_11e8_831c_4ccc6a0cc2e1row0_col9 {\n",
       "            background-color:  #ffff66;\n",
       "        }    #T_b1780a12_eb26_11e8_831c_4ccc6a0cc2e1row0_col10 {\n",
       "            background-color:  #ffff66;\n",
       "        }    #T_b1780a12_eb26_11e8_831c_4ccc6a0cc2e1row0_col11 {\n",
       "            background-color:  #008066;\n",
       "        }    #T_b1780a12_eb26_11e8_831c_4ccc6a0cc2e1row0_col12 {\n",
       "            background-color:  #ffff66;\n",
       "        }    #T_b1780a12_eb26_11e8_831c_4ccc6a0cc2e1row0_col13 {\n",
       "            background-color:  #ffff66;\n",
       "        }    #T_b1780a12_eb26_11e8_831c_4ccc6a0cc2e1row0_col14 {\n",
       "            background-color:  #008066;\n",
       "        }    #T_b1780a12_eb26_11e8_831c_4ccc6a0cc2e1row0_col15 {\n",
       "            background-color:  #ffff66;\n",
       "        }    #T_b1780a12_eb26_11e8_831c_4ccc6a0cc2e1row0_col16 {\n",
       "            background-color:  #ffff66;\n",
       "        }    #T_b1780a12_eb26_11e8_831c_4ccc6a0cc2e1row1_col0 {\n",
       "            background-color:  #ffff66;\n",
       "        }    #T_b1780a12_eb26_11e8_831c_4ccc6a0cc2e1row1_col1 {\n",
       "            background-color:  #ffff66;\n",
       "        }    #T_b1780a12_eb26_11e8_831c_4ccc6a0cc2e1row1_col2 {\n",
       "            background-color:  #ffff66;\n",
       "        }    #T_b1780a12_eb26_11e8_831c_4ccc6a0cc2e1row1_col3 {\n",
       "            background-color:  #ffff66;\n",
       "        }    #T_b1780a12_eb26_11e8_831c_4ccc6a0cc2e1row1_col4 {\n",
       "            background-color:  #ffff66;\n",
       "        }    #T_b1780a12_eb26_11e8_831c_4ccc6a0cc2e1row1_col5 {\n",
       "            background-color:  #008066;\n",
       "        }    #T_b1780a12_eb26_11e8_831c_4ccc6a0cc2e1row1_col6 {\n",
       "            background-color:  #ffff66;\n",
       "        }    #T_b1780a12_eb26_11e8_831c_4ccc6a0cc2e1row1_col7 {\n",
       "            background-color:  #008066;\n",
       "        }    #T_b1780a12_eb26_11e8_831c_4ccc6a0cc2e1row1_col8 {\n",
       "            background-color:  #008066;\n",
       "        }    #T_b1780a12_eb26_11e8_831c_4ccc6a0cc2e1row1_col9 {\n",
       "            background-color:  #008066;\n",
       "        }    #T_b1780a12_eb26_11e8_831c_4ccc6a0cc2e1row1_col10 {\n",
       "            background-color:  #008066;\n",
       "        }    #T_b1780a12_eb26_11e8_831c_4ccc6a0cc2e1row1_col11 {\n",
       "            background-color:  #ffff66;\n",
       "        }    #T_b1780a12_eb26_11e8_831c_4ccc6a0cc2e1row1_col12 {\n",
       "            background-color:  #008066;\n",
       "        }    #T_b1780a12_eb26_11e8_831c_4ccc6a0cc2e1row1_col13 {\n",
       "            background-color:  #008066;\n",
       "        }    #T_b1780a12_eb26_11e8_831c_4ccc6a0cc2e1row1_col14 {\n",
       "            background-color:  #ffff66;\n",
       "        }    #T_b1780a12_eb26_11e8_831c_4ccc6a0cc2e1row1_col15 {\n",
       "            background-color:  #008066;\n",
       "        }    #T_b1780a12_eb26_11e8_831c_4ccc6a0cc2e1row1_col16 {\n",
       "            background-color:  #008066;\n",
       "        }</style>  \n",
       "<table id=\"T_b1780a12_eb26_11e8_831c_4ccc6a0cc2e1\" > \n",
       "<thead>    <tr> \n",
       "        <th class=\"index_name level0\" >Title1</th> \n",
       "        <th class=\"col_heading level0 col0\" > Capt</th> \n",
       "        <th class=\"col_heading level0 col1\" > Col</th> \n",
       "        <th class=\"col_heading level0 col2\" > Don</th> \n",
       "        <th class=\"col_heading level0 col3\" > Dr</th> \n",
       "        <th class=\"col_heading level0 col4\" > Jonkheer</th> \n",
       "        <th class=\"col_heading level0 col5\" > Lady</th> \n",
       "        <th class=\"col_heading level0 col6\" > Major</th> \n",
       "        <th class=\"col_heading level0 col7\" > Master</th> \n",
       "        <th class=\"col_heading level0 col8\" > Miss</th> \n",
       "        <th class=\"col_heading level0 col9\" > Mlle</th> \n",
       "        <th class=\"col_heading level0 col10\" > Mme</th> \n",
       "        <th class=\"col_heading level0 col11\" > Mr</th> \n",
       "        <th class=\"col_heading level0 col12\" > Mrs</th> \n",
       "        <th class=\"col_heading level0 col13\" > Ms</th> \n",
       "        <th class=\"col_heading level0 col14\" > Rev</th> \n",
       "        <th class=\"col_heading level0 col15\" > Sir</th> \n",
       "        <th class=\"col_heading level0 col16\" > the Countess</th> \n",
       "    </tr>    <tr> \n",
       "        <th class=\"index_name level0\" >Survived</th> \n",
       "        <th class=\"blank\" ></th> \n",
       "        <th class=\"blank\" ></th> \n",
       "        <th class=\"blank\" ></th> \n",
       "        <th class=\"blank\" ></th> \n",
       "        <th class=\"blank\" ></th> \n",
       "        <th class=\"blank\" ></th> \n",
       "        <th class=\"blank\" ></th> \n",
       "        <th class=\"blank\" ></th> \n",
       "        <th class=\"blank\" ></th> \n",
       "        <th class=\"blank\" ></th> \n",
       "        <th class=\"blank\" ></th> \n",
       "        <th class=\"blank\" ></th> \n",
       "        <th class=\"blank\" ></th> \n",
       "        <th class=\"blank\" ></th> \n",
       "        <th class=\"blank\" ></th> \n",
       "        <th class=\"blank\" ></th> \n",
       "        <th class=\"blank\" ></th> \n",
       "    </tr></thead> \n",
       "<tbody>    <tr> \n",
       "        <th id=\"T_b1780a12_eb26_11e8_831c_4ccc6a0cc2e1level0_row0\" class=\"row_heading level0 row0\" >0.0</th> \n",
       "        <td id=\"T_b1780a12_eb26_11e8_831c_4ccc6a0cc2e1row0_col0\" class=\"data row0 col0\" >1</td> \n",
       "        <td id=\"T_b1780a12_eb26_11e8_831c_4ccc6a0cc2e1row0_col1\" class=\"data row0 col1\" >1</td> \n",
       "        <td id=\"T_b1780a12_eb26_11e8_831c_4ccc6a0cc2e1row0_col2\" class=\"data row0 col2\" >1</td> \n",
       "        <td id=\"T_b1780a12_eb26_11e8_831c_4ccc6a0cc2e1row0_col3\" class=\"data row0 col3\" >4</td> \n",
       "        <td id=\"T_b1780a12_eb26_11e8_831c_4ccc6a0cc2e1row0_col4\" class=\"data row0 col4\" >1</td> \n",
       "        <td id=\"T_b1780a12_eb26_11e8_831c_4ccc6a0cc2e1row0_col5\" class=\"data row0 col5\" >0</td> \n",
       "        <td id=\"T_b1780a12_eb26_11e8_831c_4ccc6a0cc2e1row0_col6\" class=\"data row0 col6\" >1</td> \n",
       "        <td id=\"T_b1780a12_eb26_11e8_831c_4ccc6a0cc2e1row0_col7\" class=\"data row0 col7\" >17</td> \n",
       "        <td id=\"T_b1780a12_eb26_11e8_831c_4ccc6a0cc2e1row0_col8\" class=\"data row0 col8\" >55</td> \n",
       "        <td id=\"T_b1780a12_eb26_11e8_831c_4ccc6a0cc2e1row0_col9\" class=\"data row0 col9\" >0</td> \n",
       "        <td id=\"T_b1780a12_eb26_11e8_831c_4ccc6a0cc2e1row0_col10\" class=\"data row0 col10\" >0</td> \n",
       "        <td id=\"T_b1780a12_eb26_11e8_831c_4ccc6a0cc2e1row0_col11\" class=\"data row0 col11\" >436</td> \n",
       "        <td id=\"T_b1780a12_eb26_11e8_831c_4ccc6a0cc2e1row0_col12\" class=\"data row0 col12\" >26</td> \n",
       "        <td id=\"T_b1780a12_eb26_11e8_831c_4ccc6a0cc2e1row0_col13\" class=\"data row0 col13\" >0</td> \n",
       "        <td id=\"T_b1780a12_eb26_11e8_831c_4ccc6a0cc2e1row0_col14\" class=\"data row0 col14\" >6</td> \n",
       "        <td id=\"T_b1780a12_eb26_11e8_831c_4ccc6a0cc2e1row0_col15\" class=\"data row0 col15\" >0</td> \n",
       "        <td id=\"T_b1780a12_eb26_11e8_831c_4ccc6a0cc2e1row0_col16\" class=\"data row0 col16\" >0</td> \n",
       "    </tr>    <tr> \n",
       "        <th id=\"T_b1780a12_eb26_11e8_831c_4ccc6a0cc2e1level0_row1\" class=\"row_heading level0 row1\" >1.0</th> \n",
       "        <td id=\"T_b1780a12_eb26_11e8_831c_4ccc6a0cc2e1row1_col0\" class=\"data row1 col0\" >0</td> \n",
       "        <td id=\"T_b1780a12_eb26_11e8_831c_4ccc6a0cc2e1row1_col1\" class=\"data row1 col1\" >1</td> \n",
       "        <td id=\"T_b1780a12_eb26_11e8_831c_4ccc6a0cc2e1row1_col2\" class=\"data row1 col2\" >0</td> \n",
       "        <td id=\"T_b1780a12_eb26_11e8_831c_4ccc6a0cc2e1row1_col3\" class=\"data row1 col3\" >3</td> \n",
       "        <td id=\"T_b1780a12_eb26_11e8_831c_4ccc6a0cc2e1row1_col4\" class=\"data row1 col4\" >0</td> \n",
       "        <td id=\"T_b1780a12_eb26_11e8_831c_4ccc6a0cc2e1row1_col5\" class=\"data row1 col5\" >1</td> \n",
       "        <td id=\"T_b1780a12_eb26_11e8_831c_4ccc6a0cc2e1row1_col6\" class=\"data row1 col6\" >1</td> \n",
       "        <td id=\"T_b1780a12_eb26_11e8_831c_4ccc6a0cc2e1row1_col7\" class=\"data row1 col7\" >23</td> \n",
       "        <td id=\"T_b1780a12_eb26_11e8_831c_4ccc6a0cc2e1row1_col8\" class=\"data row1 col8\" >127</td> \n",
       "        <td id=\"T_b1780a12_eb26_11e8_831c_4ccc6a0cc2e1row1_col9\" class=\"data row1 col9\" >2</td> \n",
       "        <td id=\"T_b1780a12_eb26_11e8_831c_4ccc6a0cc2e1row1_col10\" class=\"data row1 col10\" >1</td> \n",
       "        <td id=\"T_b1780a12_eb26_11e8_831c_4ccc6a0cc2e1row1_col11\" class=\"data row1 col11\" >81</td> \n",
       "        <td id=\"T_b1780a12_eb26_11e8_831c_4ccc6a0cc2e1row1_col12\" class=\"data row1 col12\" >99</td> \n",
       "        <td id=\"T_b1780a12_eb26_11e8_831c_4ccc6a0cc2e1row1_col13\" class=\"data row1 col13\" >1</td> \n",
       "        <td id=\"T_b1780a12_eb26_11e8_831c_4ccc6a0cc2e1row1_col14\" class=\"data row1 col14\" >0</td> \n",
       "        <td id=\"T_b1780a12_eb26_11e8_831c_4ccc6a0cc2e1row1_col15\" class=\"data row1 col15\" >1</td> \n",
       "        <td id=\"T_b1780a12_eb26_11e8_831c_4ccc6a0cc2e1row1_col16\" class=\"data row1 col16\" >1</td> \n",
       "    </tr></tbody> \n",
       "</table> "
      ],
      "text/plain": [
       "<pandas.io.formats.style.Styler at 0xbbca5c0>"
      ]
     },
     "execution_count": 16,
     "metadata": {},
     "output_type": "execute_result"
    }
   ],
   "source": [
    "pd.crosstab(data['Title1'] ,data['Survived']).T.style.background_gradient(cmap='summer_r')"
   ]
  },
  {
   "cell_type": "code",
   "execution_count": 17,
   "metadata": {},
   "outputs": [
    {
     "data": {
      "text/plain": [
       "Title1\n",
       " Capt            70.000000\n",
       " Col             54.000000\n",
       " Don             40.000000\n",
       " Dona            39.000000\n",
       " Dr              43.571429\n",
       " Jonkheer        38.000000\n",
       " Lady            48.000000\n",
       " Major           48.500000\n",
       " Master           5.482642\n",
       " Miss            21.774238\n",
       " Mlle            24.000000\n",
       " Mme             24.000000\n",
       " Mr              32.252151\n",
       " Mrs             36.994118\n",
       " Ms              28.000000\n",
       " Rev             41.250000\n",
       " Sir             49.000000\n",
       " the Countess    33.000000\n",
       "Name: Age, dtype: float64"
      ]
     },
     "execution_count": 17,
     "metadata": {},
     "output_type": "execute_result"
    }
   ],
   "source": [
    "data.groupby(['Title1'])['Age'].mean()"
   ]
  },
  {
   "cell_type": "code",
   "execution_count": 18,
   "metadata": {},
   "outputs": [
    {
     "data": {
      "text/plain": [
       "0       Mr\n",
       "1      Mrs\n",
       "2     Miss\n",
       "3      Mrs\n",
       "4       Mr\n",
       "Name: Title1, dtype: object"
      ]
     },
     "execution_count": 18,
     "metadata": {},
     "output_type": "execute_result"
    }
   ],
   "source": [
    "data['Title1'].head()\n"
   ]
  },
  {
   "cell_type": "code",
   "execution_count": 19,
   "metadata": {},
   "outputs": [],
   "source": [
    "data['Title2'] = data['Title1'].replace(['Mlle','Mme','Ms','Dr','Major','Lady','the Countess','Jonkheer','Col','Rev','Capt','Sir','Don','Dona'],\n",
    "                                        ['Miss','Mrs','Miss','Mr','Mr','Mrs','Mrs','Mr','Mr','Mr','Mr','Mr','Mr','Mrs'],regex=True )"
   ]
  },
  {
   "cell_type": "code",
   "execution_count": 20,
   "metadata": {},
   "outputs": [
    {
     "data": {
      "text/plain": [
       "0       Mr\n",
       "1      Mrs\n",
       "2     Miss\n",
       "3      Mrs\n",
       "4       Mr\n",
       "Name: Title2, dtype: object"
      ]
     },
     "execution_count": 20,
     "metadata": {},
     "output_type": "execute_result"
    }
   ],
   "source": [
    "data['Title2'].head()"
   ]
  },
  {
   "cell_type": "code",
   "execution_count": 21,
   "metadata": {},
   "outputs": [
    {
     "data": {
      "text/plain": [
       "Title2\n",
       " Master     5.482642\n",
       " Miss      21.824366\n",
       " Mr        32.811056\n",
       " Mra       39.000000\n",
       " Mrs       36.959538\n",
       "Name: Age, dtype: float64"
      ]
     },
     "execution_count": 21,
     "metadata": {},
     "output_type": "execute_result"
    }
   ],
   "source": [
    "data.groupby('Title2')['Age'].mean()"
   ]
  },
  {
   "cell_type": "code",
   "execution_count": 22,
   "metadata": {},
   "outputs": [
    {
     "data": {
      "text/plain": [
       "Title2   Pclass\n",
       " Master  1          6.984000\n",
       "         2          2.757273\n",
       "         3          6.090000\n",
       " Miss    1         30.131148\n",
       "         2         20.865714\n",
       "         3         17.360874\n",
       " Mr      1         42.241497\n",
       "         2         32.914966\n",
       "         3         28.318910\n",
       " Mra     1         39.000000\n",
       " Mrs     1         42.857143\n",
       "         2         33.518519\n",
       "         3         32.326531\n",
       "Name: Age, dtype: float64"
      ]
     },
     "execution_count": 22,
     "metadata": {},
     "output_type": "execute_result"
    }
   ],
   "source": [
    "data.groupby(['Title2','Pclass'])['Age'].mean()"
   ]
  },
  {
   "cell_type": "code",
   "execution_count": 23,
   "metadata": {},
   "outputs": [
    {
     "data": {
      "text/html": [
       "<style  type=\"text/css\" >\n",
       "    #T_b7efb670_eb26_11e8_9f0e_4ccc6a0cc2e1row0_col0 {\n",
       "            background-color:  #ffff66;\n",
       "        }    #T_b7efb670_eb26_11e8_9f0e_4ccc6a0cc2e1row0_col1 {\n",
       "            background-color:  #008066;\n",
       "        }    #T_b7efb670_eb26_11e8_9f0e_4ccc6a0cc2e1row0_col2 {\n",
       "            background-color:  #ffff66;\n",
       "        }    #T_b7efb670_eb26_11e8_9f0e_4ccc6a0cc2e1row0_col3 {\n",
       "            background-color:  #008066;\n",
       "        }    #T_b7efb670_eb26_11e8_9f0e_4ccc6a0cc2e1row0_col4 {\n",
       "            background-color:  #008066;\n",
       "        }    #T_b7efb670_eb26_11e8_9f0e_4ccc6a0cc2e1row1_col0 {\n",
       "            background-color:  #008066;\n",
       "        }    #T_b7efb670_eb26_11e8_9f0e_4ccc6a0cc2e1row1_col1 {\n",
       "            background-color:  #ffff66;\n",
       "        }    #T_b7efb670_eb26_11e8_9f0e_4ccc6a0cc2e1row1_col2 {\n",
       "            background-color:  #008066;\n",
       "        }    #T_b7efb670_eb26_11e8_9f0e_4ccc6a0cc2e1row1_col3 {\n",
       "            background-color:  #ffff66;\n",
       "        }    #T_b7efb670_eb26_11e8_9f0e_4ccc6a0cc2e1row1_col4 {\n",
       "            background-color:  #ffff66;\n",
       "        }</style>  \n",
       "<table id=\"T_b7efb670_eb26_11e8_9f0e_4ccc6a0cc2e1\" > \n",
       "<thead>    <tr> \n",
       "        <th class=\"index_name level0\" >Title2</th> \n",
       "        <th class=\"col_heading level0 col0\" > Master</th> \n",
       "        <th class=\"col_heading level0 col1\" > Miss</th> \n",
       "        <th class=\"col_heading level0 col2\" > Mr</th> \n",
       "        <th class=\"col_heading level0 col3\" > Mra</th> \n",
       "        <th class=\"col_heading level0 col4\" > Mrs</th> \n",
       "    </tr>    <tr> \n",
       "        <th class=\"index_name level0\" >Sex</th> \n",
       "        <th class=\"blank\" ></th> \n",
       "        <th class=\"blank\" ></th> \n",
       "        <th class=\"blank\" ></th> \n",
       "        <th class=\"blank\" ></th> \n",
       "        <th class=\"blank\" ></th> \n",
       "    </tr></thead> \n",
       "<tbody>    <tr> \n",
       "        <th id=\"T_b7efb670_eb26_11e8_9f0e_4ccc6a0cc2e1level0_row0\" class=\"row_heading level0 row0\" >female</th> \n",
       "        <td id=\"T_b7efb670_eb26_11e8_9f0e_4ccc6a0cc2e1row0_col0\" class=\"data row0 col0\" >0</td> \n",
       "        <td id=\"T_b7efb670_eb26_11e8_9f0e_4ccc6a0cc2e1row0_col1\" class=\"data row0 col1\" >264</td> \n",
       "        <td id=\"T_b7efb670_eb26_11e8_9f0e_4ccc6a0cc2e1row0_col2\" class=\"data row0 col2\" >1</td> \n",
       "        <td id=\"T_b7efb670_eb26_11e8_9f0e_4ccc6a0cc2e1row0_col3\" class=\"data row0 col3\" >1</td> \n",
       "        <td id=\"T_b7efb670_eb26_11e8_9f0e_4ccc6a0cc2e1row0_col4\" class=\"data row0 col4\" >200</td> \n",
       "    </tr>    <tr> \n",
       "        <th id=\"T_b7efb670_eb26_11e8_9f0e_4ccc6a0cc2e1level0_row1\" class=\"row_heading level0 row1\" >male</th> \n",
       "        <td id=\"T_b7efb670_eb26_11e8_9f0e_4ccc6a0cc2e1row1_col0\" class=\"data row1 col0\" >61</td> \n",
       "        <td id=\"T_b7efb670_eb26_11e8_9f0e_4ccc6a0cc2e1row1_col1\" class=\"data row1 col1\" >0</td> \n",
       "        <td id=\"T_b7efb670_eb26_11e8_9f0e_4ccc6a0cc2e1row1_col2\" class=\"data row1 col2\" >782</td> \n",
       "        <td id=\"T_b7efb670_eb26_11e8_9f0e_4ccc6a0cc2e1row1_col3\" class=\"data row1 col3\" >0</td> \n",
       "        <td id=\"T_b7efb670_eb26_11e8_9f0e_4ccc6a0cc2e1row1_col4\" class=\"data row1 col4\" >0</td> \n",
       "    </tr></tbody> \n",
       "</table> "
      ],
      "text/plain": [
       "<pandas.io.formats.style.Styler at 0xcc63ac8>"
      ]
     },
     "execution_count": 23,
     "metadata": {},
     "output_type": "execute_result"
    }
   ],
   "source": [
    "pd.crosstab(data['Title2'],data['Sex']).T.style.background_gradient(cmap='summer_r')"
   ]
  },
  {
   "cell_type": "code",
   "execution_count": 24,
   "metadata": {},
   "outputs": [
    {
     "data": {
      "text/html": [
       "<style  type=\"text/css\" >\n",
       "    #T_b8831efa_eb26_11e8_8cf6_4ccc6a0cc2e1row0_col0 {\n",
       "            background-color:  #ffff66;\n",
       "        }    #T_b8831efa_eb26_11e8_8cf6_4ccc6a0cc2e1row0_col1 {\n",
       "            background-color:  #ffff66;\n",
       "        }    #T_b8831efa_eb26_11e8_8cf6_4ccc6a0cc2e1row0_col2 {\n",
       "            background-color:  #008066;\n",
       "        }    #T_b8831efa_eb26_11e8_8cf6_4ccc6a0cc2e1row0_col3 {\n",
       "            background-color:  #ffff66;\n",
       "        }    #T_b8831efa_eb26_11e8_8cf6_4ccc6a0cc2e1row1_col0 {\n",
       "            background-color:  #008066;\n",
       "        }    #T_b8831efa_eb26_11e8_8cf6_4ccc6a0cc2e1row1_col1 {\n",
       "            background-color:  #008066;\n",
       "        }    #T_b8831efa_eb26_11e8_8cf6_4ccc6a0cc2e1row1_col2 {\n",
       "            background-color:  #ffff66;\n",
       "        }    #T_b8831efa_eb26_11e8_8cf6_4ccc6a0cc2e1row1_col3 {\n",
       "            background-color:  #008066;\n",
       "        }</style>  \n",
       "<table id=\"T_b8831efa_eb26_11e8_8cf6_4ccc6a0cc2e1\" > \n",
       "<thead>    <tr> \n",
       "        <th class=\"index_name level0\" >Title2</th> \n",
       "        <th class=\"col_heading level0 col0\" > Master</th> \n",
       "        <th class=\"col_heading level0 col1\" > Miss</th> \n",
       "        <th class=\"col_heading level0 col2\" > Mr</th> \n",
       "        <th class=\"col_heading level0 col3\" > Mrs</th> \n",
       "    </tr>    <tr> \n",
       "        <th class=\"index_name level0\" >Survived</th> \n",
       "        <th class=\"blank\" ></th> \n",
       "        <th class=\"blank\" ></th> \n",
       "        <th class=\"blank\" ></th> \n",
       "        <th class=\"blank\" ></th> \n",
       "    </tr></thead> \n",
       "<tbody>    <tr> \n",
       "        <th id=\"T_b8831efa_eb26_11e8_8cf6_4ccc6a0cc2e1level0_row0\" class=\"row_heading level0 row0\" >0.0</th> \n",
       "        <td id=\"T_b8831efa_eb26_11e8_8cf6_4ccc6a0cc2e1row0_col0\" class=\"data row0 col0\" >17</td> \n",
       "        <td id=\"T_b8831efa_eb26_11e8_8cf6_4ccc6a0cc2e1row0_col1\" class=\"data row0 col1\" >55</td> \n",
       "        <td id=\"T_b8831efa_eb26_11e8_8cf6_4ccc6a0cc2e1row0_col2\" class=\"data row0 col2\" >451</td> \n",
       "        <td id=\"T_b8831efa_eb26_11e8_8cf6_4ccc6a0cc2e1row0_col3\" class=\"data row0 col3\" >26</td> \n",
       "    </tr>    <tr> \n",
       "        <th id=\"T_b8831efa_eb26_11e8_8cf6_4ccc6a0cc2e1level0_row1\" class=\"row_heading level0 row1\" >1.0</th> \n",
       "        <td id=\"T_b8831efa_eb26_11e8_8cf6_4ccc6a0cc2e1row1_col0\" class=\"data row1 col0\" >23</td> \n",
       "        <td id=\"T_b8831efa_eb26_11e8_8cf6_4ccc6a0cc2e1row1_col1\" class=\"data row1 col1\" >130</td> \n",
       "        <td id=\"T_b8831efa_eb26_11e8_8cf6_4ccc6a0cc2e1row1_col2\" class=\"data row1 col2\" >87</td> \n",
       "        <td id=\"T_b8831efa_eb26_11e8_8cf6_4ccc6a0cc2e1row1_col3\" class=\"data row1 col3\" >102</td> \n",
       "    </tr></tbody> \n",
       "</table> "
      ],
      "text/plain": [
       "<pandas.io.formats.style.Styler at 0xccbf4e0>"
      ]
     },
     "execution_count": 24,
     "metadata": {},
     "output_type": "execute_result"
    }
   ],
   "source": [
    "pd.crosstab(data['Title2'],data['Survived']).T.style.background_gradient(cmap='summer_r')"
   ]
  },
  {
   "cell_type": "code",
   "execution_count": 25,
   "metadata": {},
   "outputs": [
    {
     "data": {
      "text/plain": [
       "[((' Master', 1), 6.984),\n",
       " ((' Master', 2), 2.7572727272727273),\n",
       " ((' Master', 3), 6.090000000000001)]"
      ]
     },
     "execution_count": 25,
     "metadata": {},
     "output_type": "execute_result"
    }
   ],
   "source": [
    "list(data.groupby(['Title2','Pclass'])['Age'].mean().iteritems())[:3]"
   ]
  },
  {
   "cell_type": "code",
   "execution_count": 26,
   "metadata": {},
   "outputs": [
    {
     "name": "stdout",
     "output_type": "stream",
     "text": [
      "<class 'pandas.core.frame.DataFrame'>\n",
      "Int64Index: 1309 entries, 0 to 417\n",
      "Data columns (total 15 columns):\n",
      "Age            1046 non-null float64\n",
      "Cabin          295 non-null object\n",
      "Embarked       1307 non-null object\n",
      "Fare           1308 non-null float64\n",
      "Name           1309 non-null object\n",
      "Parch          1309 non-null int64\n",
      "PassengerId    1309 non-null int64\n",
      "Pclass         1309 non-null int64\n",
      "Sex            1309 non-null object\n",
      "SibSp          1309 non-null int64\n",
      "Survived       891 non-null float64\n",
      "Ticket         1309 non-null object\n",
      "Family_Size    1309 non-null int64\n",
      "Title1         1309 non-null object\n",
      "Title2         1309 non-null object\n",
      "dtypes: float64(3), int64(5), object(7)\n",
      "memory usage: 203.6+ KB\n"
     ]
    }
   ],
   "source": [
    "data.info()"
   ]
  },
  {
   "cell_type": "code",
   "execution_count": 27,
   "metadata": {},
   "outputs": [],
   "source": [
    "data['Ticket_info'] = data['Ticket'].apply(lambda x : x.replace('.','')\n",
    "                        .replace('/','').strip().split(' ')[0] if not x.isdigit() else 'X')"
   ]
  },
  {
   "cell_type": "code",
   "execution_count": 28,
   "metadata": {},
   "outputs": [
    {
     "data": {
      "text/plain": [
       "array(['A5', 'PC', 'STONO2', 'X', 'PP', 'CA', 'SCParis', 'SCA4', 'A4',\n",
       "       'SP', 'SOC', 'WC', 'SOTONOQ', 'WEP', 'STONO', 'C', 'SCPARIS',\n",
       "       'SOP', 'Fa', 'LINE', 'FCC', 'SWPP', 'SCOW', 'PPP', 'SC', 'SCAH',\n",
       "       'AS', 'SOPP', 'FC', 'SOTONO2', 'CASOTON', 'SCA3', 'STONOQ', 'AQ4',\n",
       "       'A', 'LP', 'AQ3'], dtype=object)"
      ]
     },
     "execution_count": 28,
     "metadata": {},
     "output_type": "execute_result"
    }
   ],
   "source": [
    "data['Ticket_info'].unique()"
   ]
  },
  {
   "cell_type": "code",
   "execution_count": 29,
   "metadata": {},
   "outputs": [
    {
     "data": {
      "text/plain": [
       "<matplotlib.axes._subplots.AxesSubplot at 0xccde438>"
      ]
     },
     "execution_count": 29,
     "metadata": {},
     "output_type": "execute_result"
    },
    {
     "data": {
      "image/png": "[encoded data removed]",
      "text/plain": [
       "<Figure size 432x288 with 1 Axes>"
      ]
     },
     "metadata": {
      "needs_background": "light"
     },
     "output_type": "display_data"
    }
   ],
   "source": [
    "sns.countplot(data['Ticket_info'], hue=data['Survived'])"
   ]
  },
  {
   "cell_type": "code",
   "execution_count": 30,
   "metadata": {},
   "outputs": [],
   "source": [
    "data['Embarked'] = data['Embarked'].fillna('S')"
   ]
  },
  {
   "cell_type": "code",
   "execution_count": 31,
   "metadata": {},
   "outputs": [
    {
     "data": {
      "text/html": [
       "<div>\n",
       "<style scoped>\n",
       "    .dataframe tbody tr th:only-of-type {\n",
       "        vertical-align: middle;\n",
       "    }\n",
       "\n",
       "    .dataframe tbody tr th {\n",
       "        vertical-align: top;\n",
       "    }\n",
       "\n",
       "    .dataframe thead th {\n",
       "        text-align: right;\n",
       "    }\n",
       "</style>\n",
       "<table border=\"1\" class=\"dataframe\">\n",
       "  <thead>\n",
       "    <tr style=\"text-align: right;\">\n",
       "      <th></th>\n",
       "      <th>Age</th>\n",
       "      <th>Cabin</th>\n",
       "      <th>Embarked</th>\n",
       "      <th>Fare</th>\n",
       "      <th>Name</th>\n",
       "      <th>Parch</th>\n",
       "      <th>PassengerId</th>\n",
       "      <th>Pclass</th>\n",
       "      <th>Sex</th>\n",
       "      <th>SibSp</th>\n",
       "      <th>Survived</th>\n",
       "      <th>Ticket</th>\n",
       "      <th>Family_Size</th>\n",
       "      <th>Title1</th>\n",
       "      <th>Title2</th>\n",
       "      <th>Ticket_info</th>\n",
       "    </tr>\n",
       "  </thead>\n",
       "  <tbody>\n",
       "    <tr>\n",
       "      <th>0</th>\n",
       "      <td>22.0</td>\n",
       "      <td>NaN</td>\n",
       "      <td>S</td>\n",
       "      <td>7.2500</td>\n",
       "      <td>Braund, Mr. Owen Harris</td>\n",
       "      <td>0</td>\n",
       "      <td>1</td>\n",
       "      <td>3</td>\n",
       "      <td>male</td>\n",
       "      <td>1</td>\n",
       "      <td>0.0</td>\n",
       "      <td>A/5 21171</td>\n",
       "      <td>1</td>\n",
       "      <td>Mr</td>\n",
       "      <td>Mr</td>\n",
       "      <td>A5</td>\n",
       "    </tr>\n",
       "    <tr>\n",
       "      <th>1</th>\n",
       "      <td>38.0</td>\n",
       "      <td>C85</td>\n",
       "      <td>C</td>\n",
       "      <td>71.2833</td>\n",
       "      <td>Cumings, Mrs. John Bradley (Florence Briggs Th...</td>\n",
       "      <td>0</td>\n",
       "      <td>2</td>\n",
       "      <td>1</td>\n",
       "      <td>female</td>\n",
       "      <td>1</td>\n",
       "      <td>1.0</td>\n",
       "      <td>PC 17599</td>\n",
       "      <td>1</td>\n",
       "      <td>Mrs</td>\n",
       "      <td>Mrs</td>\n",
       "      <td>PC</td>\n",
       "    </tr>\n",
       "    <tr>\n",
       "      <th>2</th>\n",
       "      <td>26.0</td>\n",
       "      <td>NaN</td>\n",
       "      <td>S</td>\n",
       "      <td>7.9250</td>\n",
       "      <td>Heikkinen, Miss. Laina</td>\n",
       "      <td>0</td>\n",
       "      <td>3</td>\n",
       "      <td>3</td>\n",
       "      <td>female</td>\n",
       "      <td>0</td>\n",
       "      <td>1.0</td>\n",
       "      <td>STON/O2. 3101282</td>\n",
       "      <td>0</td>\n",
       "      <td>Miss</td>\n",
       "      <td>Miss</td>\n",
       "      <td>STONO2</td>\n",
       "    </tr>\n",
       "    <tr>\n",
       "      <th>3</th>\n",
       "      <td>35.0</td>\n",
       "      <td>C123</td>\n",
       "      <td>S</td>\n",
       "      <td>53.1000</td>\n",
       "      <td>Futrelle, Mrs. Jacques Heath (Lily May Peel)</td>\n",
       "      <td>0</td>\n",
       "      <td>4</td>\n",
       "      <td>1</td>\n",
       "      <td>female</td>\n",
       "      <td>1</td>\n",
       "      <td>1.0</td>\n",
       "      <td>113803</td>\n",
       "      <td>1</td>\n",
       "      <td>Mrs</td>\n",
       "      <td>Mrs</td>\n",
       "      <td>X</td>\n",
       "    </tr>\n",
       "    <tr>\n",
       "      <th>4</th>\n",
       "      <td>35.0</td>\n",
       "      <td>NaN</td>\n",
       "      <td>S</td>\n",
       "      <td>8.0500</td>\n",
       "      <td>Allen, Mr. William Henry</td>\n",
       "      <td>0</td>\n",
       "      <td>5</td>\n",
       "      <td>3</td>\n",
       "      <td>male</td>\n",
       "      <td>0</td>\n",
       "      <td>0.0</td>\n",
       "      <td>373450</td>\n",
       "      <td>0</td>\n",
       "      <td>Mr</td>\n",
       "      <td>Mr</td>\n",
       "      <td>X</td>\n",
       "    </tr>\n",
       "  </tbody>\n",
       "</table>\n",
       "</div>"
      ],
      "text/plain": [
       "    Age Cabin Embarked     Fare  \\\n",
       "0  22.0   NaN        S   7.2500   \n",
       "1  38.0   C85        C  71.2833   \n",
       "2  26.0   NaN        S   7.9250   \n",
       "3  35.0  C123        S  53.1000   \n",
       "4  35.0   NaN        S   8.0500   \n",
       "\n",
       "                                                Name  Parch  PassengerId  \\\n",
       "0                            Braund, Mr. Owen Harris      0            1   \n",
       "1  Cumings, Mrs. John Bradley (Florence Briggs Th...      0            2   \n",
       "2                             Heikkinen, Miss. Laina      0            3   \n",
       "3       Futrelle, Mrs. Jacques Heath (Lily May Peel)      0            4   \n",
       "4                           Allen, Mr. William Henry      0            5   \n",
       "\n",
       "   Pclass     Sex  SibSp  Survived            Ticket  Family_Size Title1  \\\n",
       "0       3    male      1       0.0         A/5 21171            1     Mr   \n",
       "1       1  female      1       1.0          PC 17599            1    Mrs   \n",
       "2       3  female      0       1.0  STON/O2. 3101282            0   Miss   \n",
       "3       1  female      1       1.0            113803            1    Mrs   \n",
       "4       3    male      0       0.0            373450            0     Mr   \n",
       "\n",
       "  Title2 Ticket_info  \n",
       "0     Mr          A5  \n",
       "1    Mrs          PC  \n",
       "2   Miss      STONO2  \n",
       "3    Mrs           X  \n",
       "4     Mr           X  "
      ]
     },
     "execution_count": 31,
     "metadata": {},
     "output_type": "execute_result"
    }
   ],
   "source": [
    "data.head()"
   ]
  },
  {
   "cell_type": "code",
   "execution_count": 32,
   "metadata": {},
   "outputs": [
    {
     "data": {
      "text/plain": [
       "0     NaN\n",
       "1     C85\n",
       "2     NaN\n",
       "3    C123\n",
       "4     NaN\n",
       "5     NaN\n",
       "6     E46\n",
       "7     NaN\n",
       "8     NaN\n",
       "9     NaN\n",
       "Name: Cabin, dtype: object"
      ]
     },
     "execution_count": 32,
     "metadata": {},
     "output_type": "execute_result"
    }
   ],
   "source": [
    "data['Cabin'].head(10)"
   ]
  },
  {
   "cell_type": "code",
   "execution_count": 33,
   "metadata": {},
   "outputs": [],
   "source": [
    "data['Cabin'] = data['Cabin'].apply(lambda x : str(x)[0] if not pd.isnull(x) else 'NoCabin')"
   ]
  },
  {
   "cell_type": "code",
   "execution_count": 34,
   "metadata": {},
   "outputs": [
    {
     "data": {
      "text/plain": [
       "array(['NoCabin', 'C', 'E', 'G', 'D', 'A', 'B', 'F', 'T'], dtype=object)"
      ]
     },
     "execution_count": 34,
     "metadata": {},
     "output_type": "execute_result"
    }
   ],
   "source": [
    "data['Cabin'].unique()"
   ]
  },
  {
   "cell_type": "code",
   "execution_count": 35,
   "metadata": {},
   "outputs": [
    {
     "data": {
      "text/plain": [
       "<matplotlib.axes._subplots.AxesSubplot at 0xcde6358>"
      ]
     },
     "execution_count": 35,
     "metadata": {},
     "output_type": "execute_result"
    },
    {
     "data": {
      "image/png": "[encoded data removed]",
      "text/plain": [
       "<Figure size 432x288 with 1 Axes>"
      ]
     },
     "metadata": {
      "needs_background": "light"
     },
     "output_type": "display_data"
    }
   ],
   "source": [
    "sns.countplot(data['Cabin'], hue=data['Survived'])"
   ]
  },
  {
   "cell_type": "code",
   "execution_count": 36,
   "metadata": {},
   "outputs": [],
   "source": [
    "data['Sex'] = data['Sex'].astype('category').cat.codes\n",
    "data['Embarked'] = data['Embarked'].astype('category').cat.codes\n",
    "data['Pclass'] = data['Pclass'].astype('category').cat.codes\n",
    "data['Title1'] = data['Title1'].astype('category').cat.codes\n",
    "data['Title2'] = data['Title2'].astype('category').cat.codes\n",
    "data['Cabin'] = data['Cabin'].astype('category').cat.codes\n",
    "data['Ticket_info'] = data['Ticket_info'].astype('category').cat.codes"
   ]
  },
  {
   "cell_type": "code",
   "execution_count": 85,
   "metadata": {},
   "outputs": [],
   "source": [
    "dataAgeNull = data[data['Age'].isna()]\n",
    "dataAgeNotNull = data[data['Age'].notna()]\n",
    "#將每一筆票價數據減其平均,若結果大於4倍平均差\n",
    "#dataAgeNotNull['Fare'].mean()平均 36\n",
    "#dataAgeNotNull['Fare'].std() 平均差 55.73\n",
    "remove_outlier = dataAgeNotNull[(np.abs(dataAgeNotNull['Fare']-dataAgeNotNull['Fare'].mean())>\n",
    "                    (4*dataAgeNotNull['Fare'].std())) | \n",
    "                    (np.abs(dataAgeNotNull['Family_Size']-data['Family_Size'].mean())>\n",
    "                    (4*dataAgeNotNull['Family_Size'].std()))]\n",
    "rfModel_age = RandomForestRegressor(n_estimators=2000,random_state=42)\n",
    "ageColumns = ['Embarked', 'Fare', 'Pclass', 'Sex', 'Family_Size', 'Title1', 'Title2','Cabin','Ticket_info']\n",
    "rfModel_age.fit(remove_outlier[ageColumns], remove_outlier['Age'])\n",
    "\n",
    "#ageNullValues = rfModel_age.predict(dataAgeNull[ageColumns])\n",
    "#dataAgeNull.loc[:,'Age'] = ageNullValues\n",
    "data = dataAgeNull.append(dataAgeNotNull)\n",
    "data.reset_index(inplace=True,drop=True)"
   ]
  },
  {
   "cell_type": "code",
   "execution_count": 90,
   "metadata": {},
   "outputs": [],
   "source": [
    "dataTrain = data[pd.notna(data['Survived'])].sort_values(by=['PassengerId'])\n",
    "dataTest = data[~pd.notna(data['Survived'])].sort_values(by=['PassengerId'])"
   ]
  },
  {
   "cell_type": "code",
   "execution_count": 80,
   "metadata": {},
   "outputs": [
    {
     "data": {
      "text/plain": [
       "Index(['Age', 'Cabin', 'Embarked', 'Fare', 'Name', 'Parch', 'PassengerId',\n",
       "       'Pclass', 'Sex', 'SibSp', 'Survived', 'Ticket', 'Family_Size', 'Title1',\n",
       "       'Title2', 'Ticket_info'],\n",
       "      dtype='object')"
      ]
     },
     "execution_count": 80,
     "metadata": {},
     "output_type": "execute_result"
    }
   ],
   "source": [
    "dataTrain.columns"
   ]
  },
  {
   "cell_type": "code",
   "execution_count": 81,
   "metadata": {},
   "outputs": [],
   "source": [
    "dataTrain = dataTrain[['Survived', 'Age', 'Embarked', 'Fare',  'Pclass', 'Sex', 'Family_Size', 'Title2','Ticket_info','Cabin']]\n",
    "dataTest = dataTest[['Age', 'Embarked', 'Fare', 'Pclass', 'Sex', 'Family_Size', 'Title2','Ticket_info','Cabin']]"
   ]
  },
  {
   "cell_type": "code",
   "execution_count": 82,
   "metadata": {},
   "outputs": [
    {
     "data": {
      "text/html": [
       "<div>\n",
       "<style scoped>\n",
       "    .dataframe tbody tr th:only-of-type {\n",
       "        vertical-align: middle;\n",
       "    }\n",
       "\n",
       "    .dataframe tbody tr th {\n",
       "        vertical-align: top;\n",
       "    }\n",
       "\n",
       "    .dataframe thead th {\n",
       "        text-align: right;\n",
       "    }\n",
       "</style>\n",
       "<table border=\"1\" class=\"dataframe\">\n",
       "  <thead>\n",
       "    <tr style=\"text-align: right;\">\n",
       "      <th></th>\n",
       "      <th>Survived</th>\n",
       "      <th>Age</th>\n",
       "      <th>Embarked</th>\n",
       "      <th>Fare</th>\n",
       "      <th>Pclass</th>\n",
       "      <th>Sex</th>\n",
       "      <th>Family_Size</th>\n",
       "      <th>Title2</th>\n",
       "      <th>Ticket_info</th>\n",
       "      <th>Cabin</th>\n",
       "    </tr>\n",
       "  </thead>\n",
       "  <tbody>\n",
       "    <tr>\n",
       "      <th>263</th>\n",
       "      <td>0.0</td>\n",
       "      <td>22.0</td>\n",
       "      <td>2</td>\n",
       "      <td>7.2500</td>\n",
       "      <td>2</td>\n",
       "      <td>1</td>\n",
       "      <td>1</td>\n",
       "      <td>2</td>\n",
       "      <td>2</td>\n",
       "      <td>7</td>\n",
       "    </tr>\n",
       "    <tr>\n",
       "      <th>264</th>\n",
       "      <td>1.0</td>\n",
       "      <td>38.0</td>\n",
       "      <td>0</td>\n",
       "      <td>71.2833</td>\n",
       "      <td>0</td>\n",
       "      <td>0</td>\n",
       "      <td>1</td>\n",
       "      <td>4</td>\n",
       "      <td>14</td>\n",
       "      <td>2</td>\n",
       "    </tr>\n",
       "    <tr>\n",
       "      <th>265</th>\n",
       "      <td>1.0</td>\n",
       "      <td>26.0</td>\n",
       "      <td>2</td>\n",
       "      <td>7.9250</td>\n",
       "      <td>2</td>\n",
       "      <td>0</td>\n",
       "      <td>0</td>\n",
       "      <td>1</td>\n",
       "      <td>31</td>\n",
       "      <td>7</td>\n",
       "    </tr>\n",
       "    <tr>\n",
       "      <th>266</th>\n",
       "      <td>1.0</td>\n",
       "      <td>35.0</td>\n",
       "      <td>2</td>\n",
       "      <td>53.1000</td>\n",
       "      <td>0</td>\n",
       "      <td>0</td>\n",
       "      <td>1</td>\n",
       "      <td>4</td>\n",
       "      <td>36</td>\n",
       "      <td>2</td>\n",
       "    </tr>\n",
       "    <tr>\n",
       "      <th>267</th>\n",
       "      <td>0.0</td>\n",
       "      <td>35.0</td>\n",
       "      <td>2</td>\n",
       "      <td>8.0500</td>\n",
       "      <td>2</td>\n",
       "      <td>1</td>\n",
       "      <td>0</td>\n",
       "      <td>2</td>\n",
       "      <td>36</td>\n",
       "      <td>7</td>\n",
       "    </tr>\n",
       "  </tbody>\n",
       "</table>\n",
       "</div>"
      ],
      "text/plain": [
       "     Survived   Age  Embarked     Fare  Pclass  Sex  Family_Size  Title2  \\\n",
       "263       0.0  22.0         2   7.2500       2    1            1       2   \n",
       "264       1.0  38.0         0  71.2833       0    0            1       4   \n",
       "265       1.0  26.0         2   7.9250       2    0            0       1   \n",
       "266       1.0  35.0         2  53.1000       0    0            1       4   \n",
       "267       0.0  35.0         2   8.0500       2    1            0       2   \n",
       "\n",
       "     Ticket_info  Cabin  \n",
       "263            2      7  \n",
       "264           14      2  \n",
       "265           31      7  \n",
       "266           36      2  \n",
       "267           36      7  "
      ]
     },
     "execution_count": 82,
     "metadata": {},
     "output_type": "execute_result"
    }
   ],
   "source": [
    "dataTrain.head()"
   ]
  },
  {
   "cell_type": "code",
   "execution_count": 83,
   "metadata": {},
   "outputs": [
    {
     "name": "stdout",
     "output_type": "stream",
     "text": [
      "0.8294\n"
     ]
    }
   ],
   "source": [
    "rf = RandomForestClassifier(criterion='gini',\n",
    "                             n_estimators=1000,\n",
    "                             min_samples_split=12,\n",
    "                             min_samples_leaf=1,\n",
    "                             oob_score=True,\n",
    "                             random_state=1,\n",
    "                             n_jobs=-1)\n",
    "\n",
    "rf.fit(dataTrain.iloc[ : ,1: ],dataTrain.iloc[ : ,0 ])\n",
    "print(\"%.4f\" % rf.oob_score_)"
   ]
  },
  {
   "cell_type": "code",
   "execution_count": 84,
   "metadata": {},
   "outputs": [
    {
     "data": {
      "text/html": [
       "<div>\n",
       "<style scoped>\n",
       "    .dataframe tbody tr th:only-of-type {\n",
       "        vertical-align: middle;\n",
       "    }\n",
       "\n",
       "    .dataframe tbody tr th {\n",
       "        vertical-align: top;\n",
       "    }\n",
       "\n",
       "    .dataframe thead th {\n",
       "        text-align: right;\n",
       "    }\n",
       "</style>\n",
       "<table border=\"1\" class=\"dataframe\">\n",
       "  <thead>\n",
       "    <tr style=\"text-align: right;\">\n",
       "      <th></th>\n",
       "      <th>variable</th>\n",
       "      <th>importance</th>\n",
       "    </tr>\n",
       "  </thead>\n",
       "  <tbody>\n",
       "    <tr>\n",
       "      <th>4</th>\n",
       "      <td>Sex</td>\n",
       "      <td>0.264997</td>\n",
       "    </tr>\n",
       "    <tr>\n",
       "      <th>2</th>\n",
       "      <td>Fare</td>\n",
       "      <td>0.163890</td>\n",
       "    </tr>\n",
       "    <tr>\n",
       "      <th>6</th>\n",
       "      <td>Title2</td>\n",
       "      <td>0.152698</td>\n",
       "    </tr>\n",
       "    <tr>\n",
       "      <th>0</th>\n",
       "      <td>Age</td>\n",
       "      <td>0.131891</td>\n",
       "    </tr>\n",
       "    <tr>\n",
       "      <th>3</th>\n",
       "      <td>Pclass</td>\n",
       "      <td>0.091048</td>\n",
       "    </tr>\n",
       "    <tr>\n",
       "      <th>5</th>\n",
       "      <td>Family_Size</td>\n",
       "      <td>0.070839</td>\n",
       "    </tr>\n",
       "    <tr>\n",
       "      <th>8</th>\n",
       "      <td>Cabin</td>\n",
       "      <td>0.067029</td>\n",
       "    </tr>\n",
       "    <tr>\n",
       "      <th>7</th>\n",
       "      <td>Ticket_info</td>\n",
       "      <td>0.031735</td>\n",
       "    </tr>\n",
       "    <tr>\n",
       "      <th>1</th>\n",
       "      <td>Embarked</td>\n",
       "      <td>0.025873</td>\n",
       "    </tr>\n",
       "  </tbody>\n",
       "</table>\n",
       "</div>"
      ],
      "text/plain": [
       "      variable  importance\n",
       "4          Sex    0.264997\n",
       "2         Fare    0.163890\n",
       "6       Title2    0.152698\n",
       "0          Age    0.131891\n",
       "3       Pclass    0.091048\n",
       "5  Family_Size    0.070839\n",
       "8        Cabin    0.067029\n",
       "7  Ticket_info    0.031735\n",
       "1     Embarked    0.025873"
      ]
     },
     "execution_count": 84,
     "metadata": {},
     "output_type": "execute_result"
    }
   ],
   "source": [
    "pd.concat((pd.DataFrame(dataTrain.iloc[:,1:].columns ,columns = ['variable']),\n",
    "           pd.DataFrame(rf.feature_importances_ ,columns = ['importance'])),\n",
    "          axis=1).sort_values(by = 'importance' ,ascending = False)[:20]"
   ]
  },
  {
   "cell_type": "code",
   "execution_count": 93,
   "metadata": {},
   "outputs": [
    {
     "ename": "ValueError",
     "evalue": "could not convert string to float: 'SOTON/O.Q. 3101262'",
     "output_type": "error",
     "traceback": [
      "\u001b[1;31m---------------------------------------------------------------------------\u001b[0m",
      "\u001b[1;31mValueError\u001b[0m                                Traceback (most recent call last)",
      "\u001b[1;32m<ipython-input-93-87de04cfaac3>\u001b[0m in \u001b[0;36m<module>\u001b[1;34m()\u001b[0m\n\u001b[1;32m----> 1\u001b[1;33m \u001b[0mrf_res\u001b[0m \u001b[1;33m=\u001b[0m \u001b[0mrf\u001b[0m\u001b[1;33m.\u001b[0m\u001b[0mpredict\u001b[0m\u001b[1;33m(\u001b[0m\u001b[0mdataTest\u001b[0m\u001b[1;33m)\u001b[0m\u001b[1;33m\u001b[0m\u001b[0m\n\u001b[0m\u001b[0;32m      2\u001b[0m \u001b[0msubmit\u001b[0m\u001b[1;33m[\u001b[0m\u001b[1;34m'Survived'\u001b[0m\u001b[1;33m]\u001b[0m \u001b[1;33m=\u001b[0m \u001b[0mrf_res\u001b[0m\u001b[1;33m\u001b[0m\u001b[0m\n\u001b[0;32m      3\u001b[0m \u001b[0msubmit\u001b[0m\u001b[1;33m[\u001b[0m\u001b[1;34m'Survived'\u001b[0m\u001b[1;33m]\u001b[0m \u001b[1;33m=\u001b[0m \u001b[0msubmit\u001b[0m\u001b[1;33m[\u001b[0m\u001b[1;34m'Survived'\u001b[0m\u001b[1;33m]\u001b[0m\u001b[1;33m.\u001b[0m\u001b[0mastype\u001b[0m\u001b[1;33m(\u001b[0m\u001b[0mint\u001b[0m\u001b[1;33m)\u001b[0m\u001b[1;33m\u001b[0m\u001b[0m\n\u001b[0;32m      4\u001b[0m \u001b[0msubmit\u001b[0m\u001b[1;33m.\u001b[0m\u001b[0mto_csv\u001b[0m\u001b[1;33m(\u001b[0m\u001b[1;34m'submit.csv'\u001b[0m \u001b[1;33m,\u001b[0m\u001b[0mindex\u001b[0m\u001b[1;33m=\u001b[0m\u001b[1;32mFalse\u001b[0m\u001b[1;33m)\u001b[0m\u001b[1;33m\u001b[0m\u001b[0m\n",
      "\u001b[1;32mD:\\Program Files\\Anaconda3\\lib\\site-packages\\sklearn\\ensemble\\forest.py\u001b[0m in \u001b[0;36mpredict\u001b[1;34m(self, X)\u001b[0m\n\u001b[0;32m    536\u001b[0m             \u001b[0mThe\u001b[0m \u001b[0mpredicted\u001b[0m \u001b[0mclasses\u001b[0m\u001b[1;33m.\u001b[0m\u001b[1;33m\u001b[0m\u001b[0m\n\u001b[0;32m    537\u001b[0m         \"\"\"\n\u001b[1;32m--> 538\u001b[1;33m         \u001b[0mproba\u001b[0m \u001b[1;33m=\u001b[0m \u001b[0mself\u001b[0m\u001b[1;33m.\u001b[0m\u001b[0mpredict_proba\u001b[0m\u001b[1;33m(\u001b[0m\u001b[0mX\u001b[0m\u001b[1;33m)\u001b[0m\u001b[1;33m\u001b[0m\u001b[0m\n\u001b[0m\u001b[0;32m    539\u001b[0m \u001b[1;33m\u001b[0m\u001b[0m\n\u001b[0;32m    540\u001b[0m         \u001b[1;32mif\u001b[0m \u001b[0mself\u001b[0m\u001b[1;33m.\u001b[0m\u001b[0mn_outputs_\u001b[0m \u001b[1;33m==\u001b[0m \u001b[1;36m1\u001b[0m\u001b[1;33m:\u001b[0m\u001b[1;33m\u001b[0m\u001b[0m\n",
      "\u001b[1;32mD:\\Program Files\\Anaconda3\\lib\\site-packages\\sklearn\\ensemble\\forest.py\u001b[0m in \u001b[0;36mpredict_proba\u001b[1;34m(self, X)\u001b[0m\n\u001b[0;32m    576\u001b[0m         \u001b[0mcheck_is_fitted\u001b[0m\u001b[1;33m(\u001b[0m\u001b[0mself\u001b[0m\u001b[1;33m,\u001b[0m \u001b[1;34m'estimators_'\u001b[0m\u001b[1;33m)\u001b[0m\u001b[1;33m\u001b[0m\u001b[0m\n\u001b[0;32m    577\u001b[0m         \u001b[1;31m# Check data\u001b[0m\u001b[1;33m\u001b[0m\u001b[1;33m\u001b[0m\u001b[0m\n\u001b[1;32m--> 578\u001b[1;33m         \u001b[0mX\u001b[0m \u001b[1;33m=\u001b[0m \u001b[0mself\u001b[0m\u001b[1;33m.\u001b[0m\u001b[0m_validate_X_predict\u001b[0m\u001b[1;33m(\u001b[0m\u001b[0mX\u001b[0m\u001b[1;33m)\u001b[0m\u001b[1;33m\u001b[0m\u001b[0m\n\u001b[0m\u001b[0;32m    579\u001b[0m \u001b[1;33m\u001b[0m\u001b[0m\n\u001b[0;32m    580\u001b[0m         \u001b[1;31m# Assign chunk of trees to jobs\u001b[0m\u001b[1;33m\u001b[0m\u001b[1;33m\u001b[0m\u001b[0m\n",
      "\u001b[1;32mD:\\Program Files\\Anaconda3\\lib\\site-packages\\sklearn\\ensemble\\forest.py\u001b[0m in \u001b[0;36m_validate_X_predict\u001b[1;34m(self, X)\u001b[0m\n\u001b[0;32m    355\u001b[0m                                  \"call `fit` before exploiting the model.\")\n\u001b[0;32m    356\u001b[0m \u001b[1;33m\u001b[0m\u001b[0m\n\u001b[1;32m--> 357\u001b[1;33m         \u001b[1;32mreturn\u001b[0m \u001b[0mself\u001b[0m\u001b[1;33m.\u001b[0m\u001b[0mestimators_\u001b[0m\u001b[1;33m[\u001b[0m\u001b[1;36m0\u001b[0m\u001b[1;33m]\u001b[0m\u001b[1;33m.\u001b[0m\u001b[0m_validate_X_predict\u001b[0m\u001b[1;33m(\u001b[0m\u001b[0mX\u001b[0m\u001b[1;33m,\u001b[0m \u001b[0mcheck_input\u001b[0m\u001b[1;33m=\u001b[0m\u001b[1;32mTrue\u001b[0m\u001b[1;33m)\u001b[0m\u001b[1;33m\u001b[0m\u001b[0m\n\u001b[0m\u001b[0;32m    358\u001b[0m \u001b[1;33m\u001b[0m\u001b[0m\n\u001b[0;32m    359\u001b[0m     \u001b[1;33m@\u001b[0m\u001b[0mproperty\u001b[0m\u001b[1;33m\u001b[0m\u001b[0m\n",
      "\u001b[1;32mD:\\Program Files\\Anaconda3\\lib\\site-packages\\sklearn\\tree\\tree.py\u001b[0m in \u001b[0;36m_validate_X_predict\u001b[1;34m(self, X, check_input)\u001b[0m\n\u001b[0;32m    371\u001b[0m         \u001b[1;34m\"\"\"Validate X whenever one tries to predict, apply, predict_proba\"\"\"\u001b[0m\u001b[1;33m\u001b[0m\u001b[0m\n\u001b[0;32m    372\u001b[0m         \u001b[1;32mif\u001b[0m \u001b[0mcheck_input\u001b[0m\u001b[1;33m:\u001b[0m\u001b[1;33m\u001b[0m\u001b[0m\n\u001b[1;32m--> 373\u001b[1;33m             \u001b[0mX\u001b[0m \u001b[1;33m=\u001b[0m \u001b[0mcheck_array\u001b[0m\u001b[1;33m(\u001b[0m\u001b[0mX\u001b[0m\u001b[1;33m,\u001b[0m \u001b[0mdtype\u001b[0m\u001b[1;33m=\u001b[0m\u001b[0mDTYPE\u001b[0m\u001b[1;33m,\u001b[0m \u001b[0maccept_sparse\u001b[0m\u001b[1;33m=\u001b[0m\u001b[1;34m\"csr\"\u001b[0m\u001b[1;33m)\u001b[0m\u001b[1;33m\u001b[0m\u001b[0m\n\u001b[0m\u001b[0;32m    374\u001b[0m             if issparse(X) and (X.indices.dtype != np.intc or\n\u001b[0;32m    375\u001b[0m                                 X.indptr.dtype != np.intc):\n",
      "\u001b[1;32mD:\\Program Files\\Anaconda3\\lib\\site-packages\\sklearn\\utils\\validation.py\u001b[0m in \u001b[0;36mcheck_array\u001b[1;34m(array, accept_sparse, dtype, order, copy, force_all_finite, ensure_2d, allow_nd, ensure_min_samples, ensure_min_features, warn_on_dtype, estimator)\u001b[0m\n\u001b[0;32m    431\u001b[0m                                       force_all_finite)\n\u001b[0;32m    432\u001b[0m     \u001b[1;32melse\u001b[0m\u001b[1;33m:\u001b[0m\u001b[1;33m\u001b[0m\u001b[0m\n\u001b[1;32m--> 433\u001b[1;33m         \u001b[0marray\u001b[0m \u001b[1;33m=\u001b[0m \u001b[0mnp\u001b[0m\u001b[1;33m.\u001b[0m\u001b[0marray\u001b[0m\u001b[1;33m(\u001b[0m\u001b[0marray\u001b[0m\u001b[1;33m,\u001b[0m \u001b[0mdtype\u001b[0m\u001b[1;33m=\u001b[0m\u001b[0mdtype\u001b[0m\u001b[1;33m,\u001b[0m \u001b[0morder\u001b[0m\u001b[1;33m=\u001b[0m\u001b[0morder\u001b[0m\u001b[1;33m,\u001b[0m \u001b[0mcopy\u001b[0m\u001b[1;33m=\u001b[0m\u001b[0mcopy\u001b[0m\u001b[1;33m)\u001b[0m\u001b[1;33m\u001b[0m\u001b[0m\n\u001b[0m\u001b[0;32m    434\u001b[0m \u001b[1;33m\u001b[0m\u001b[0m\n\u001b[0;32m    435\u001b[0m         \u001b[1;32mif\u001b[0m \u001b[0mensure_2d\u001b[0m\u001b[1;33m:\u001b[0m\u001b[1;33m\u001b[0m\u001b[0m\n",
      "\u001b[1;31mValueError\u001b[0m: could not convert string to float: 'SOTON/O.Q. 3101262'"
     ]
    }
   ],
   "source": [
    "rf_res = rf.predict(dataTest)\n",
    "submit['Survived'] = rf_res\n",
    "submit['Survived'] = submit['Survived'].astype(int)\n",
    "submit.to_csv('submit.csv' ,index=False)"
   ]
  },
  {
   "cell_type": "code",
   "execution_count": 94,
   "metadata": {},
   "outputs": [
    {
     "data": {
      "text/html": [
       "<div>\n",
       "<style scoped>\n",
       "    .dataframe tbody tr th:only-of-type {\n",
       "        vertical-align: middle;\n",
       "    }\n",
       "\n",
       "    .dataframe tbody tr th {\n",
       "        vertical-align: top;\n",
       "    }\n",
       "\n",
       "    .dataframe thead th {\n",
       "        text-align: right;\n",
       "    }\n",
       "</style>\n",
       "<table border=\"1\" class=\"dataframe\">\n",
       "  <thead>\n",
       "    <tr style=\"text-align: right;\">\n",
       "      <th></th>\n",
       "      <th>PassengerId</th>\n",
       "      <th>Survived</th>\n",
       "    </tr>\n",
       "  </thead>\n",
       "  <tbody>\n",
       "    <tr>\n",
       "      <th>0</th>\n",
       "      <td>892</td>\n",
       "      <td>0</td>\n",
       "    </tr>\n",
       "    <tr>\n",
       "      <th>1</th>\n",
       "      <td>893</td>\n",
       "      <td>1</td>\n",
       "    </tr>\n",
       "    <tr>\n",
       "      <th>2</th>\n",
       "      <td>894</td>\n",
       "      <td>0</td>\n",
       "    </tr>\n",
       "    <tr>\n",
       "      <th>3</th>\n",
       "      <td>895</td>\n",
       "      <td>0</td>\n",
       "    </tr>\n",
       "    <tr>\n",
       "      <th>4</th>\n",
       "      <td>896</td>\n",
       "      <td>1</td>\n",
       "    </tr>\n",
       "    <tr>\n",
       "      <th>5</th>\n",
       "      <td>897</td>\n",
       "      <td>0</td>\n",
       "    </tr>\n",
       "    <tr>\n",
       "      <th>6</th>\n",
       "      <td>898</td>\n",
       "      <td>1</td>\n",
       "    </tr>\n",
       "    <tr>\n",
       "      <th>7</th>\n",
       "      <td>899</td>\n",
       "      <td>0</td>\n",
       "    </tr>\n",
       "    <tr>\n",
       "      <th>8</th>\n",
       "      <td>900</td>\n",
       "      <td>1</td>\n",
       "    </tr>\n",
       "    <tr>\n",
       "      <th>9</th>\n",
       "      <td>901</td>\n",
       "      <td>0</td>\n",
       "    </tr>\n",
       "    <tr>\n",
       "      <th>10</th>\n",
       "      <td>902</td>\n",
       "      <td>0</td>\n",
       "    </tr>\n",
       "    <tr>\n",
       "      <th>11</th>\n",
       "      <td>903</td>\n",
       "      <td>0</td>\n",
       "    </tr>\n",
       "    <tr>\n",
       "      <th>12</th>\n",
       "      <td>904</td>\n",
       "      <td>1</td>\n",
       "    </tr>\n",
       "    <tr>\n",
       "      <th>13</th>\n",
       "      <td>905</td>\n",
       "      <td>0</td>\n",
       "    </tr>\n",
       "    <tr>\n",
       "      <th>14</th>\n",
       "      <td>906</td>\n",
       "      <td>1</td>\n",
       "    </tr>\n",
       "    <tr>\n",
       "      <th>15</th>\n",
       "      <td>907</td>\n",
       "      <td>1</td>\n",
       "    </tr>\n",
       "    <tr>\n",
       "      <th>16</th>\n",
       "      <td>908</td>\n",
       "      <td>0</td>\n",
       "    </tr>\n",
       "    <tr>\n",
       "      <th>17</th>\n",
       "      <td>909</td>\n",
       "      <td>0</td>\n",
       "    </tr>\n",
       "    <tr>\n",
       "      <th>18</th>\n",
       "      <td>910</td>\n",
       "      <td>1</td>\n",
       "    </tr>\n",
       "    <tr>\n",
       "      <th>19</th>\n",
       "      <td>911</td>\n",
       "      <td>1</td>\n",
       "    </tr>\n",
       "    <tr>\n",
       "      <th>20</th>\n",
       "      <td>912</td>\n",
       "      <td>0</td>\n",
       "    </tr>\n",
       "    <tr>\n",
       "      <th>21</th>\n",
       "      <td>913</td>\n",
       "      <td>0</td>\n",
       "    </tr>\n",
       "    <tr>\n",
       "      <th>22</th>\n",
       "      <td>914</td>\n",
       "      <td>1</td>\n",
       "    </tr>\n",
       "    <tr>\n",
       "      <th>23</th>\n",
       "      <td>915</td>\n",
       "      <td>0</td>\n",
       "    </tr>\n",
       "    <tr>\n",
       "      <th>24</th>\n",
       "      <td>916</td>\n",
       "      <td>1</td>\n",
       "    </tr>\n",
       "    <tr>\n",
       "      <th>25</th>\n",
       "      <td>917</td>\n",
       "      <td>0</td>\n",
       "    </tr>\n",
       "    <tr>\n",
       "      <th>26</th>\n",
       "      <td>918</td>\n",
       "      <td>1</td>\n",
       "    </tr>\n",
       "    <tr>\n",
       "      <th>27</th>\n",
       "      <td>919</td>\n",
       "      <td>0</td>\n",
       "    </tr>\n",
       "    <tr>\n",
       "      <th>28</th>\n",
       "      <td>920</td>\n",
       "      <td>0</td>\n",
       "    </tr>\n",
       "    <tr>\n",
       "      <th>29</th>\n",
       "      <td>921</td>\n",
       "      <td>0</td>\n",
       "    </tr>\n",
       "    <tr>\n",
       "      <th>...</th>\n",
       "      <td>...</td>\n",
       "      <td>...</td>\n",
       "    </tr>\n",
       "    <tr>\n",
       "      <th>388</th>\n",
       "      <td>1280</td>\n",
       "      <td>0</td>\n",
       "    </tr>\n",
       "    <tr>\n",
       "      <th>389</th>\n",
       "      <td>1281</td>\n",
       "      <td>0</td>\n",
       "    </tr>\n",
       "    <tr>\n",
       "      <th>390</th>\n",
       "      <td>1282</td>\n",
       "      <td>0</td>\n",
       "    </tr>\n",
       "    <tr>\n",
       "      <th>391</th>\n",
       "      <td>1283</td>\n",
       "      <td>1</td>\n",
       "    </tr>\n",
       "    <tr>\n",
       "      <th>392</th>\n",
       "      <td>1284</td>\n",
       "      <td>0</td>\n",
       "    </tr>\n",
       "    <tr>\n",
       "      <th>393</th>\n",
       "      <td>1285</td>\n",
       "      <td>0</td>\n",
       "    </tr>\n",
       "    <tr>\n",
       "      <th>394</th>\n",
       "      <td>1286</td>\n",
       "      <td>0</td>\n",
       "    </tr>\n",
       "    <tr>\n",
       "      <th>395</th>\n",
       "      <td>1287</td>\n",
       "      <td>1</td>\n",
       "    </tr>\n",
       "    <tr>\n",
       "      <th>396</th>\n",
       "      <td>1288</td>\n",
       "      <td>0</td>\n",
       "    </tr>\n",
       "    <tr>\n",
       "      <th>397</th>\n",
       "      <td>1289</td>\n",
       "      <td>1</td>\n",
       "    </tr>\n",
       "    <tr>\n",
       "      <th>398</th>\n",
       "      <td>1290</td>\n",
       "      <td>0</td>\n",
       "    </tr>\n",
       "    <tr>\n",
       "      <th>399</th>\n",
       "      <td>1291</td>\n",
       "      <td>0</td>\n",
       "    </tr>\n",
       "    <tr>\n",
       "      <th>400</th>\n",
       "      <td>1292</td>\n",
       "      <td>1</td>\n",
       "    </tr>\n",
       "    <tr>\n",
       "      <th>401</th>\n",
       "      <td>1293</td>\n",
       "      <td>0</td>\n",
       "    </tr>\n",
       "    <tr>\n",
       "      <th>402</th>\n",
       "      <td>1294</td>\n",
       "      <td>1</td>\n",
       "    </tr>\n",
       "    <tr>\n",
       "      <th>403</th>\n",
       "      <td>1295</td>\n",
       "      <td>0</td>\n",
       "    </tr>\n",
       "    <tr>\n",
       "      <th>404</th>\n",
       "      <td>1296</td>\n",
       "      <td>0</td>\n",
       "    </tr>\n",
       "    <tr>\n",
       "      <th>405</th>\n",
       "      <td>1297</td>\n",
       "      <td>0</td>\n",
       "    </tr>\n",
       "    <tr>\n",
       "      <th>406</th>\n",
       "      <td>1298</td>\n",
       "      <td>0</td>\n",
       "    </tr>\n",
       "    <tr>\n",
       "      <th>407</th>\n",
       "      <td>1299</td>\n",
       "      <td>0</td>\n",
       "    </tr>\n",
       "    <tr>\n",
       "      <th>408</th>\n",
       "      <td>1300</td>\n",
       "      <td>1</td>\n",
       "    </tr>\n",
       "    <tr>\n",
       "      <th>409</th>\n",
       "      <td>1301</td>\n",
       "      <td>1</td>\n",
       "    </tr>\n",
       "    <tr>\n",
       "      <th>410</th>\n",
       "      <td>1302</td>\n",
       "      <td>1</td>\n",
       "    </tr>\n",
       "    <tr>\n",
       "      <th>411</th>\n",
       "      <td>1303</td>\n",
       "      <td>1</td>\n",
       "    </tr>\n",
       "    <tr>\n",
       "      <th>412</th>\n",
       "      <td>1304</td>\n",
       "      <td>1</td>\n",
       "    </tr>\n",
       "    <tr>\n",
       "      <th>413</th>\n",
       "      <td>1305</td>\n",
       "      <td>0</td>\n",
       "    </tr>\n",
       "    <tr>\n",
       "      <th>414</th>\n",
       "      <td>1306</td>\n",
       "      <td>1</td>\n",
       "    </tr>\n",
       "    <tr>\n",
       "      <th>415</th>\n",
       "      <td>1307</td>\n",
       "      <td>0</td>\n",
       "    </tr>\n",
       "    <tr>\n",
       "      <th>416</th>\n",
       "      <td>1308</td>\n",
       "      <td>0</td>\n",
       "    </tr>\n",
       "    <tr>\n",
       "      <th>417</th>\n",
       "      <td>1309</td>\n",
       "      <td>0</td>\n",
       "    </tr>\n",
       "  </tbody>\n",
       "</table>\n",
       "<p>418 rows × 2 columns</p>\n",
       "</div>"
      ],
      "text/plain": [
       "     PassengerId  Survived\n",
       "0            892         0\n",
       "1            893         1\n",
       "2            894         0\n",
       "3            895         0\n",
       "4            896         1\n",
       "5            897         0\n",
       "6            898         1\n",
       "7            899         0\n",
       "8            900         1\n",
       "9            901         0\n",
       "10           902         0\n",
       "11           903         0\n",
       "12           904         1\n",
       "13           905         0\n",
       "14           906         1\n",
       "15           907         1\n",
       "16           908         0\n",
       "17           909         0\n",
       "18           910         1\n",
       "19           911         1\n",
       "20           912         0\n",
       "21           913         0\n",
       "22           914         1\n",
       "23           915         0\n",
       "24           916         1\n",
       "25           917         0\n",
       "26           918         1\n",
       "27           919         0\n",
       "28           920         0\n",
       "29           921         0\n",
       "..           ...       ...\n",
       "388         1280         0\n",
       "389         1281         0\n",
       "390         1282         0\n",
       "391         1283         1\n",
       "392         1284         0\n",
       "393         1285         0\n",
       "394         1286         0\n",
       "395         1287         1\n",
       "396         1288         0\n",
       "397         1289         1\n",
       "398         1290         0\n",
       "399         1291         0\n",
       "400         1292         1\n",
       "401         1293         0\n",
       "402         1294         1\n",
       "403         1295         0\n",
       "404         1296         0\n",
       "405         1297         0\n",
       "406         1298         0\n",
       "407         1299         0\n",
       "408         1300         1\n",
       "409         1301         1\n",
       "410         1302         1\n",
       "411         1303         1\n",
       "412         1304         1\n",
       "413         1305         0\n",
       "414         1306         1\n",
       "415         1307         0\n",
       "416         1308         0\n",
       "417         1309         0\n",
       "\n",
       "[418 rows x 2 columns]"
      ]
     },
     "execution_count": 94,
     "metadata": {},
     "output_type": "execute_result"
    }
   ],
   "source": [
    "submit"
   ]
  },
  {
   "cell_type": "code",
   "execution_count": null,
   "metadata": {},
   "outputs": [],
   "source": []
  }
 ],
 "metadata": {
  "kernelspec": {
   "display_name": "Python 3",
   "language": "python",
   "name": "python3"
  },
  "language_info": {
   "codemirror_mode": {
    "name": "ipython",
    "version": 3
   },
   "file_extension": ".py",
   "mimetype": "text/x-python",
   "name": "python",
   "nbconvert_exporter": "python",
   "pygments_lexer": "ipython3",
   "version": "3.7.0"
  }
 },
 "nbformat": 4,
 "nbformat_minor": 2
}
