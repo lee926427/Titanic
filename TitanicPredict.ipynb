{
 "cells": [
  {
   "cell_type": "code",
   "execution_count": 129,
   "metadata": {},
   "outputs": [],
   "source": [
    "from sklearn import preprocessing\n",
    "from sklearn.model_selection import GridSearchCV\n",
    "from sklearn.ensemble import RandomForestClassifier\n",
    "from sklearn.ensemble import RandomForestRegressor\n",
    "\n",
    "import warnings\n",
    "import pandas as pd\n",
    "import numpy as np\n",
    "import matplotlib.pyplot as plot\n",
    "import seaborn as sns\n",
    "\n",
    "%matplotlib inline"
   ]
  },
  {
   "cell_type": "code",
   "execution_count": 11,
   "metadata": {},
   "outputs": [],
   "source": [
    "train = pd.read_csv('datasets/train.csv')\n",
    "test = pd.read_csv('datasets/test.csv')\n",
    "submit = pd.read_csv('datasets/gender_submission.csv')"
   ]
  },
  {
   "cell_type": "code",
   "execution_count": 12,
   "metadata": {},
   "outputs": [
    {
     "name": "stdout",
     "output_type": "stream",
     "text": [
      "<class 'pandas.core.frame.DataFrame'>\n",
      "RangeIndex: 891 entries, 0 to 890\n",
      "Data columns (total 12 columns):\n",
      "PassengerId    891 non-null int64\n",
      "Survived       891 non-null int64\n",
      "Pclass         891 non-null int64\n",
      "Name           891 non-null object\n",
      "Sex            891 non-null object\n",
      "Age            714 non-null float64\n",
      "SibSp          891 non-null int64\n",
      "Parch          891 non-null int64\n",
      "Ticket         891 non-null object\n",
      "Fare           891 non-null float64\n",
      "Cabin          204 non-null object\n",
      "Embarked       889 non-null object\n",
      "dtypes: float64(2), int64(5), object(5)\n",
      "memory usage: 83.6+ KB\n"
     ]
    }
   ],
   "source": [
    "train.info()"
   ]
  },
  {
   "cell_type": "code",
   "execution_count": 8,
   "metadata": {},
   "outputs": [
    {
     "data": {
      "text/html": [
       "<div>\n",
       "<style scoped>\n",
       "    .dataframe tbody tr th:only-of-type {\n",
       "        vertical-align: middle;\n",
       "    }\n",
       "\n",
       "    .dataframe tbody tr th {\n",
       "        vertical-align: top;\n",
       "    }\n",
       "\n",
       "    .dataframe thead th {\n",
       "        text-align: right;\n",
       "    }\n",
       "</style>\n",
       "<table border=\"1\" class=\"dataframe\">\n",
       "  <thead>\n",
       "    <tr style=\"text-align: right;\">\n",
       "      <th></th>\n",
       "      <th>PassengerId</th>\n",
       "      <th>Survived</th>\n",
       "      <th>Pclass</th>\n",
       "      <th>Age</th>\n",
       "      <th>SibSp</th>\n",
       "      <th>Parch</th>\n",
       "      <th>Fare</th>\n",
       "    </tr>\n",
       "  </thead>\n",
       "  <tbody>\n",
       "    <tr>\n",
       "      <th>count</th>\n",
       "      <td>891.000000</td>\n",
       "      <td>891.000000</td>\n",
       "      <td>891.000000</td>\n",
       "      <td>714.000000</td>\n",
       "      <td>891.000000</td>\n",
       "      <td>891.000000</td>\n",
       "      <td>891.000000</td>\n",
       "    </tr>\n",
       "    <tr>\n",
       "      <th>mean</th>\n",
       "      <td>446.000000</td>\n",
       "      <td>0.383838</td>\n",
       "      <td>2.308642</td>\n",
       "      <td>29.699118</td>\n",
       "      <td>0.523008</td>\n",
       "      <td>0.381594</td>\n",
       "      <td>32.204208</td>\n",
       "    </tr>\n",
       "    <tr>\n",
       "      <th>std</th>\n",
       "      <td>257.353842</td>\n",
       "      <td>0.486592</td>\n",
       "      <td>0.836071</td>\n",
       "      <td>14.526497</td>\n",
       "      <td>1.102743</td>\n",
       "      <td>0.806057</td>\n",
       "      <td>49.693429</td>\n",
       "    </tr>\n",
       "    <tr>\n",
       "      <th>min</th>\n",
       "      <td>1.000000</td>\n",
       "      <td>0.000000</td>\n",
       "      <td>1.000000</td>\n",
       "      <td>0.420000</td>\n",
       "      <td>0.000000</td>\n",
       "      <td>0.000000</td>\n",
       "      <td>0.000000</td>\n",
       "    </tr>\n",
       "    <tr>\n",
       "      <th>25%</th>\n",
       "      <td>223.500000</td>\n",
       "      <td>0.000000</td>\n",
       "      <td>2.000000</td>\n",
       "      <td>20.125000</td>\n",
       "      <td>0.000000</td>\n",
       "      <td>0.000000</td>\n",
       "      <td>7.910400</td>\n",
       "    </tr>\n",
       "    <tr>\n",
       "      <th>50%</th>\n",
       "      <td>446.000000</td>\n",
       "      <td>0.000000</td>\n",
       "      <td>3.000000</td>\n",
       "      <td>28.000000</td>\n",
       "      <td>0.000000</td>\n",
       "      <td>0.000000</td>\n",
       "      <td>14.454200</td>\n",
       "    </tr>\n",
       "    <tr>\n",
       "      <th>75%</th>\n",
       "      <td>668.500000</td>\n",
       "      <td>1.000000</td>\n",
       "      <td>3.000000</td>\n",
       "      <td>38.000000</td>\n",
       "      <td>1.000000</td>\n",
       "      <td>0.000000</td>\n",
       "      <td>31.000000</td>\n",
       "    </tr>\n",
       "    <tr>\n",
       "      <th>max</th>\n",
       "      <td>891.000000</td>\n",
       "      <td>1.000000</td>\n",
       "      <td>3.000000</td>\n",
       "      <td>80.000000</td>\n",
       "      <td>8.000000</td>\n",
       "      <td>6.000000</td>\n",
       "      <td>512.329200</td>\n",
       "    </tr>\n",
       "  </tbody>\n",
       "</table>\n",
       "</div>"
      ],
      "text/plain": [
       "       PassengerId    Survived      Pclass         Age       SibSp  \\\n",
       "count   891.000000  891.000000  891.000000  714.000000  891.000000   \n",
       "mean    446.000000    0.383838    2.308642   29.699118    0.523008   \n",
       "std     257.353842    0.486592    0.836071   14.526497    1.102743   \n",
       "min       1.000000    0.000000    1.000000    0.420000    0.000000   \n",
       "25%     223.500000    0.000000    2.000000   20.125000    0.000000   \n",
       "50%     446.000000    0.000000    3.000000   28.000000    0.000000   \n",
       "75%     668.500000    1.000000    3.000000   38.000000    1.000000   \n",
       "max     891.000000    1.000000    3.000000   80.000000    8.000000   \n",
       "\n",
       "            Parch        Fare  \n",
       "count  891.000000  891.000000  \n",
       "mean     0.381594   32.204208  \n",
       "std      0.806057   49.693429  \n",
       "min      0.000000    0.000000  \n",
       "25%      0.000000    7.910400  \n",
       "50%      0.000000   14.454200  \n",
       "75%      0.000000   31.000000  \n",
       "max      6.000000  512.329200  "
      ]
     },
     "execution_count": 8,
     "metadata": {},
     "output_type": "execute_result"
    }
   ],
   "source": [
    "train.describe()"
   ]
  },
  {
   "cell_type": "code",
   "execution_count": 14,
   "metadata": {},
   "outputs": [],
   "source": [
    "data = train.append(test,sort=True)"
   ]
  },
  {
   "cell_type": "code",
   "execution_count": 18,
   "metadata": {},
   "outputs": [
    {
     "data": {
      "text/plain": [
       "<matplotlib.axes._subplots.AxesSubplot at 0xad039b0>"
      ]
     },
     "execution_count": 18,
     "metadata": {},
     "output_type": "execute_result"
    },
    {
     "data": {
      "image/png": "[encoded data removed]",
      "text/plain": [
       "<Figure size 432x288 with 1 Axes>"
      ]
     },
     "metadata": {
      "needs_background": "light"
     },
     "output_type": "display_data"
    }
   ],
   "source": [
    "sns.countplot(data['Pclass'], hue=data['Survived'])"
   ]
  },
  {
   "cell_type": "code",
   "execution_count": 21,
   "metadata": {},
   "outputs": [
    {
     "data": {
      "text/plain": [
       "<matplotlib.axes._subplots.AxesSubplot at 0xb334160>"
      ]
     },
     "execution_count": 21,
     "metadata": {},
     "output_type": "execute_result"
    },
    {
     "data": {
      "image/png": "[encoded data removed]",
      "text/plain": [
       "<Figure size 432x288 with 1 Axes>"
      ]
     },
     "metadata": {
      "needs_background": "light"
     },
     "output_type": "display_data"
    }
   ],
   "source": [
    "sns.countplot(data['Sex'], hue=data['Survived'])"
   ]
  },
  {
   "cell_type": "code",
   "execution_count": 15,
   "metadata": {},
   "outputs": [
    {
     "name": "stderr",
     "output_type": "stream",
     "text": [
      "D:\\Program Files\\Anaconda3\\lib\\site-packages\\scipy\\stats\\stats.py:1713: FutureWarning: Using a non-tuple sequence for multidimensional indexing is deprecated; use `arr[tuple(seq)]` instead of `arr[seq]`. In the future this will be interpreted as an array index, `arr[np.array(seq)]`, which will result either in an error or a different result.\n",
      "  return np.add.reduce(sorted[indexer] * weights, axis=axis) / sumval\n"
     ]
    },
    {
     "data": {
      "text/plain": [
       "<seaborn.axisgrid.FacetGrid at 0xaae19e8>"
      ]
     },
     "execution_count": 15,
     "metadata": {},
     "output_type": "execute_result"
    },
    {
     "data": {
      "image/png": "[encoded data removed]",
      "text/plain": [
       "<Figure size 432x216 with 2 Axes>"
      ]
     },
     "metadata": {
      "needs_background": "light"
     },
     "output_type": "display_data"
    }
   ],
   "source": [
    "data['Family_Size'] = data['Parch'] + data['SibSp']\n",
    "g = sns.FacetGrid(data, col='Survived')\n",
    "g.map(sns.distplot, 'Family_Size', kde=False)"
   ]
  },
  {
   "cell_type": "code",
   "execution_count": 23,
   "metadata": {},
   "outputs": [],
   "source": [
    "data['Title1'] = data['Name'].str.split(',' ,expand=True)[1]"
   ]
  },
  {
   "cell_type": "code",
   "execution_count": 22,
   "metadata": {},
   "outputs": [
    {
     "data": {
      "text/html": [
       "<div>\n",
       "<style scoped>\n",
       "    .dataframe tbody tr th:only-of-type {\n",
       "        vertical-align: middle;\n",
       "    }\n",
       "\n",
       "    .dataframe tbody tr th {\n",
       "        vertical-align: top;\n",
       "    }\n",
       "\n",
       "    .dataframe thead th {\n",
       "        text-align: right;\n",
       "    }\n",
       "</style>\n",
       "<table border=\"1\" class=\"dataframe\">\n",
       "  <thead>\n",
       "    <tr style=\"text-align: right;\">\n",
       "      <th></th>\n",
       "      <th>0</th>\n",
       "      <th>1</th>\n",
       "    </tr>\n",
       "  </thead>\n",
       "  <tbody>\n",
       "    <tr>\n",
       "      <th>0</th>\n",
       "      <td>Braund</td>\n",
       "      <td>Mr. Owen Harris</td>\n",
       "    </tr>\n",
       "    <tr>\n",
       "      <th>1</th>\n",
       "      <td>Cumings</td>\n",
       "      <td>Mrs. John Bradley (Florence Briggs Thayer)</td>\n",
       "    </tr>\n",
       "    <tr>\n",
       "      <th>2</th>\n",
       "      <td>Heikkinen</td>\n",
       "      <td>Miss. Laina</td>\n",
       "    </tr>\n",
       "    <tr>\n",
       "      <th>3</th>\n",
       "      <td>Futrelle</td>\n",
       "      <td>Mrs. Jacques Heath (Lily May Peel)</td>\n",
       "    </tr>\n",
       "    <tr>\n",
       "      <th>4</th>\n",
       "      <td>Allen</td>\n",
       "      <td>Mr. William Henry</td>\n",
       "    </tr>\n",
       "  </tbody>\n",
       "</table>\n",
       "</div>"
      ],
      "text/plain": [
       "           0                                            1\n",
       "0     Braund                              Mr. Owen Harris\n",
       "1    Cumings   Mrs. John Bradley (Florence Briggs Thayer)\n",
       "2  Heikkinen                                  Miss. Laina\n",
       "3   Futrelle           Mrs. Jacques Heath (Lily May Peel)\n",
       "4      Allen                            Mr. William Henry"
      ]
     },
     "execution_count": 22,
     "metadata": {},
     "output_type": "execute_result"
    }
   ],
   "source": [
    "data['Name'].str.split(\",\" ,expand=True).head()"
   ]
  },
  {
   "cell_type": "code",
   "execution_count": 24,
   "metadata": {},
   "outputs": [],
   "source": [
    "data['Title1'] = data['Title1'].str.split('.' ,expand=True)[0]"
   ]
  },
  {
   "cell_type": "code",
   "execution_count": 26,
   "metadata": {},
   "outputs": [
    {
     "data": {
      "text/html": [
       "<style  type=\"text/css\" >\n",
       "    #T_aaa37bbe_ea73_11e8_af5d_4ccc6a0cc2e1row0_col0 {\n",
       "            background-color:  #ffff66;\n",
       "        }    #T_aaa37bbe_ea73_11e8_af5d_4ccc6a0cc2e1row0_col1 {\n",
       "            background-color:  #ffff66;\n",
       "        }    #T_aaa37bbe_ea73_11e8_af5d_4ccc6a0cc2e1row0_col2 {\n",
       "            background-color:  #ffff66;\n",
       "        }    #T_aaa37bbe_ea73_11e8_af5d_4ccc6a0cc2e1row0_col3 {\n",
       "            background-color:  #008066;\n",
       "        }    #T_aaa37bbe_ea73_11e8_af5d_4ccc6a0cc2e1row0_col4 {\n",
       "            background-color:  #ffff66;\n",
       "        }    #T_aaa37bbe_ea73_11e8_af5d_4ccc6a0cc2e1row0_col5 {\n",
       "            background-color:  #ffff66;\n",
       "        }    #T_aaa37bbe_ea73_11e8_af5d_4ccc6a0cc2e1row0_col6 {\n",
       "            background-color:  #008066;\n",
       "        }    #T_aaa37bbe_ea73_11e8_af5d_4ccc6a0cc2e1row0_col7 {\n",
       "            background-color:  #ffff66;\n",
       "        }    #T_aaa37bbe_ea73_11e8_af5d_4ccc6a0cc2e1row0_col8 {\n",
       "            background-color:  #ffff66;\n",
       "        }    #T_aaa37bbe_ea73_11e8_af5d_4ccc6a0cc2e1row0_col9 {\n",
       "            background-color:  #008066;\n",
       "        }    #T_aaa37bbe_ea73_11e8_af5d_4ccc6a0cc2e1row0_col10 {\n",
       "            background-color:  #008066;\n",
       "        }    #T_aaa37bbe_ea73_11e8_af5d_4ccc6a0cc2e1row0_col11 {\n",
       "            background-color:  #008066;\n",
       "        }    #T_aaa37bbe_ea73_11e8_af5d_4ccc6a0cc2e1row0_col12 {\n",
       "            background-color:  #ffff66;\n",
       "        }    #T_aaa37bbe_ea73_11e8_af5d_4ccc6a0cc2e1row0_col13 {\n",
       "            background-color:  #008066;\n",
       "        }    #T_aaa37bbe_ea73_11e8_af5d_4ccc6a0cc2e1row0_col14 {\n",
       "            background-color:  #008066;\n",
       "        }    #T_aaa37bbe_ea73_11e8_af5d_4ccc6a0cc2e1row0_col15 {\n",
       "            background-color:  #ffff66;\n",
       "        }    #T_aaa37bbe_ea73_11e8_af5d_4ccc6a0cc2e1row0_col16 {\n",
       "            background-color:  #ffff66;\n",
       "        }    #T_aaa37bbe_ea73_11e8_af5d_4ccc6a0cc2e1row0_col17 {\n",
       "            background-color:  #008066;\n",
       "        }    #T_aaa37bbe_ea73_11e8_af5d_4ccc6a0cc2e1row1_col0 {\n",
       "            background-color:  #008066;\n",
       "        }    #T_aaa37bbe_ea73_11e8_af5d_4ccc6a0cc2e1row1_col1 {\n",
       "            background-color:  #008066;\n",
       "        }    #T_aaa37bbe_ea73_11e8_af5d_4ccc6a0cc2e1row1_col2 {\n",
       "            background-color:  #008066;\n",
       "        }    #T_aaa37bbe_ea73_11e8_af5d_4ccc6a0cc2e1row1_col3 {\n",
       "            background-color:  #ffff66;\n",
       "        }    #T_aaa37bbe_ea73_11e8_af5d_4ccc6a0cc2e1row1_col4 {\n",
       "            background-color:  #008066;\n",
       "        }    #T_aaa37bbe_ea73_11e8_af5d_4ccc6a0cc2e1row1_col5 {\n",
       "            background-color:  #008066;\n",
       "        }    #T_aaa37bbe_ea73_11e8_af5d_4ccc6a0cc2e1row1_col6 {\n",
       "            background-color:  #ffff66;\n",
       "        }    #T_aaa37bbe_ea73_11e8_af5d_4ccc6a0cc2e1row1_col7 {\n",
       "            background-color:  #008066;\n",
       "        }    #T_aaa37bbe_ea73_11e8_af5d_4ccc6a0cc2e1row1_col8 {\n",
       "            background-color:  #008066;\n",
       "        }    #T_aaa37bbe_ea73_11e8_af5d_4ccc6a0cc2e1row1_col9 {\n",
       "            background-color:  #ffff66;\n",
       "        }    #T_aaa37bbe_ea73_11e8_af5d_4ccc6a0cc2e1row1_col10 {\n",
       "            background-color:  #ffff66;\n",
       "        }    #T_aaa37bbe_ea73_11e8_af5d_4ccc6a0cc2e1row1_col11 {\n",
       "            background-color:  #ffff66;\n",
       "        }    #T_aaa37bbe_ea73_11e8_af5d_4ccc6a0cc2e1row1_col12 {\n",
       "            background-color:  #008066;\n",
       "        }    #T_aaa37bbe_ea73_11e8_af5d_4ccc6a0cc2e1row1_col13 {\n",
       "            background-color:  #ffff66;\n",
       "        }    #T_aaa37bbe_ea73_11e8_af5d_4ccc6a0cc2e1row1_col14 {\n",
       "            background-color:  #ffff66;\n",
       "        }    #T_aaa37bbe_ea73_11e8_af5d_4ccc6a0cc2e1row1_col15 {\n",
       "            background-color:  #008066;\n",
       "        }    #T_aaa37bbe_ea73_11e8_af5d_4ccc6a0cc2e1row1_col16 {\n",
       "            background-color:  #008066;\n",
       "        }    #T_aaa37bbe_ea73_11e8_af5d_4ccc6a0cc2e1row1_col17 {\n",
       "            background-color:  #ffff66;\n",
       "        }</style>  \n",
       "<table id=\"T_aaa37bbe_ea73_11e8_af5d_4ccc6a0cc2e1\" > \n",
       "<thead>    <tr> \n",
       "        <th class=\"index_name level0\" >Title1</th> \n",
       "        <th class=\"col_heading level0 col0\" > Capt</th> \n",
       "        <th class=\"col_heading level0 col1\" > Col</th> \n",
       "        <th class=\"col_heading level0 col2\" > Don</th> \n",
       "        <th class=\"col_heading level0 col3\" > Dona</th> \n",
       "        <th class=\"col_heading level0 col4\" > Dr</th> \n",
       "        <th class=\"col_heading level0 col5\" > Jonkheer</th> \n",
       "        <th class=\"col_heading level0 col6\" > Lady</th> \n",
       "        <th class=\"col_heading level0 col7\" > Major</th> \n",
       "        <th class=\"col_heading level0 col8\" > Master</th> \n",
       "        <th class=\"col_heading level0 col9\" > Miss</th> \n",
       "        <th class=\"col_heading level0 col10\" > Mlle</th> \n",
       "        <th class=\"col_heading level0 col11\" > Mme</th> \n",
       "        <th class=\"col_heading level0 col12\" > Mr</th> \n",
       "        <th class=\"col_heading level0 col13\" > Mrs</th> \n",
       "        <th class=\"col_heading level0 col14\" > Ms</th> \n",
       "        <th class=\"col_heading level0 col15\" > Rev</th> \n",
       "        <th class=\"col_heading level0 col16\" > Sir</th> \n",
       "        <th class=\"col_heading level0 col17\" > the Countess</th> \n",
       "    </tr>    <tr> \n",
       "        <th class=\"index_name level0\" >Sex</th> \n",
       "        <th class=\"blank\" ></th> \n",
       "        <th class=\"blank\" ></th> \n",
       "        <th class=\"blank\" ></th> \n",
       "        <th class=\"blank\" ></th> \n",
       "        <th class=\"blank\" ></th> \n",
       "        <th class=\"blank\" ></th> \n",
       "        <th class=\"blank\" ></th> \n",
       "        <th class=\"blank\" ></th> \n",
       "        <th class=\"blank\" ></th> \n",
       "        <th class=\"blank\" ></th> \n",
       "        <th class=\"blank\" ></th> \n",
       "        <th class=\"blank\" ></th> \n",
       "        <th class=\"blank\" ></th> \n",
       "        <th class=\"blank\" ></th> \n",
       "        <th class=\"blank\" ></th> \n",
       "        <th class=\"blank\" ></th> \n",
       "        <th class=\"blank\" ></th> \n",
       "        <th class=\"blank\" ></th> \n",
       "    </tr></thead> \n",
       "<tbody>    <tr> \n",
       "        <th id=\"T_aaa37bbe_ea73_11e8_af5d_4ccc6a0cc2e1level0_row0\" class=\"row_heading level0 row0\" >female</th> \n",
       "        <td id=\"T_aaa37bbe_ea73_11e8_af5d_4ccc6a0cc2e1row0_col0\" class=\"data row0 col0\" >0</td> \n",
       "        <td id=\"T_aaa37bbe_ea73_11e8_af5d_4ccc6a0cc2e1row0_col1\" class=\"data row0 col1\" >0</td> \n",
       "        <td id=\"T_aaa37bbe_ea73_11e8_af5d_4ccc6a0cc2e1row0_col2\" class=\"data row0 col2\" >0</td> \n",
       "        <td id=\"T_aaa37bbe_ea73_11e8_af5d_4ccc6a0cc2e1row0_col3\" class=\"data row0 col3\" >1</td> \n",
       "        <td id=\"T_aaa37bbe_ea73_11e8_af5d_4ccc6a0cc2e1row0_col4\" class=\"data row0 col4\" >1</td> \n",
       "        <td id=\"T_aaa37bbe_ea73_11e8_af5d_4ccc6a0cc2e1row0_col5\" class=\"data row0 col5\" >0</td> \n",
       "        <td id=\"T_aaa37bbe_ea73_11e8_af5d_4ccc6a0cc2e1row0_col6\" class=\"data row0 col6\" >1</td> \n",
       "        <td id=\"T_aaa37bbe_ea73_11e8_af5d_4ccc6a0cc2e1row0_col7\" class=\"data row0 col7\" >0</td> \n",
       "        <td id=\"T_aaa37bbe_ea73_11e8_af5d_4ccc6a0cc2e1row0_col8\" class=\"data row0 col8\" >0</td> \n",
       "        <td id=\"T_aaa37bbe_ea73_11e8_af5d_4ccc6a0cc2e1row0_col9\" class=\"data row0 col9\" >260</td> \n",
       "        <td id=\"T_aaa37bbe_ea73_11e8_af5d_4ccc6a0cc2e1row0_col10\" class=\"data row0 col10\" >2</td> \n",
       "        <td id=\"T_aaa37bbe_ea73_11e8_af5d_4ccc6a0cc2e1row0_col11\" class=\"data row0 col11\" >1</td> \n",
       "        <td id=\"T_aaa37bbe_ea73_11e8_af5d_4ccc6a0cc2e1row0_col12\" class=\"data row0 col12\" >0</td> \n",
       "        <td id=\"T_aaa37bbe_ea73_11e8_af5d_4ccc6a0cc2e1row0_col13\" class=\"data row0 col13\" >197</td> \n",
       "        <td id=\"T_aaa37bbe_ea73_11e8_af5d_4ccc6a0cc2e1row0_col14\" class=\"data row0 col14\" >2</td> \n",
       "        <td id=\"T_aaa37bbe_ea73_11e8_af5d_4ccc6a0cc2e1row0_col15\" class=\"data row0 col15\" >0</td> \n",
       "        <td id=\"T_aaa37bbe_ea73_11e8_af5d_4ccc6a0cc2e1row0_col16\" class=\"data row0 col16\" >0</td> \n",
       "        <td id=\"T_aaa37bbe_ea73_11e8_af5d_4ccc6a0cc2e1row0_col17\" class=\"data row0 col17\" >1</td> \n",
       "    </tr>    <tr> \n",
       "        <th id=\"T_aaa37bbe_ea73_11e8_af5d_4ccc6a0cc2e1level0_row1\" class=\"row_heading level0 row1\" >male</th> \n",
       "        <td id=\"T_aaa37bbe_ea73_11e8_af5d_4ccc6a0cc2e1row1_col0\" class=\"data row1 col0\" >1</td> \n",
       "        <td id=\"T_aaa37bbe_ea73_11e8_af5d_4ccc6a0cc2e1row1_col1\" class=\"data row1 col1\" >4</td> \n",
       "        <td id=\"T_aaa37bbe_ea73_11e8_af5d_4ccc6a0cc2e1row1_col2\" class=\"data row1 col2\" >1</td> \n",
       "        <td id=\"T_aaa37bbe_ea73_11e8_af5d_4ccc6a0cc2e1row1_col3\" class=\"data row1 col3\" >0</td> \n",
       "        <td id=\"T_aaa37bbe_ea73_11e8_af5d_4ccc6a0cc2e1row1_col4\" class=\"data row1 col4\" >7</td> \n",
       "        <td id=\"T_aaa37bbe_ea73_11e8_af5d_4ccc6a0cc2e1row1_col5\" class=\"data row1 col5\" >1</td> \n",
       "        <td id=\"T_aaa37bbe_ea73_11e8_af5d_4ccc6a0cc2e1row1_col6\" class=\"data row1 col6\" >0</td> \n",
       "        <td id=\"T_aaa37bbe_ea73_11e8_af5d_4ccc6a0cc2e1row1_col7\" class=\"data row1 col7\" >2</td> \n",
       "        <td id=\"T_aaa37bbe_ea73_11e8_af5d_4ccc6a0cc2e1row1_col8\" class=\"data row1 col8\" >61</td> \n",
       "        <td id=\"T_aaa37bbe_ea73_11e8_af5d_4ccc6a0cc2e1row1_col9\" class=\"data row1 col9\" >0</td> \n",
       "        <td id=\"T_aaa37bbe_ea73_11e8_af5d_4ccc6a0cc2e1row1_col10\" class=\"data row1 col10\" >0</td> \n",
       "        <td id=\"T_aaa37bbe_ea73_11e8_af5d_4ccc6a0cc2e1row1_col11\" class=\"data row1 col11\" >0</td> \n",
       "        <td id=\"T_aaa37bbe_ea73_11e8_af5d_4ccc6a0cc2e1row1_col12\" class=\"data row1 col12\" >757</td> \n",
       "        <td id=\"T_aaa37bbe_ea73_11e8_af5d_4ccc6a0cc2e1row1_col13\" class=\"data row1 col13\" >0</td> \n",
       "        <td id=\"T_aaa37bbe_ea73_11e8_af5d_4ccc6a0cc2e1row1_col14\" class=\"data row1 col14\" >0</td> \n",
       "        <td id=\"T_aaa37bbe_ea73_11e8_af5d_4ccc6a0cc2e1row1_col15\" class=\"data row1 col15\" >8</td> \n",
       "        <td id=\"T_aaa37bbe_ea73_11e8_af5d_4ccc6a0cc2e1row1_col16\" class=\"data row1 col16\" >1</td> \n",
       "        <td id=\"T_aaa37bbe_ea73_11e8_af5d_4ccc6a0cc2e1row1_col17\" class=\"data row1 col17\" >0</td> \n",
       "    </tr></tbody> \n",
       "</table> "
      ],
      "text/plain": [
       "<pandas.io.formats.style.Styler at 0xc15a0f0>"
      ]
     },
     "execution_count": 26,
     "metadata": {},
     "output_type": "execute_result"
    }
   ],
   "source": [
    "pd.crosstab(data['Title1'] ,data['Sex']).T.style.background_gradient(cmap='summer_r')"
   ]
  },
  {
   "cell_type": "code",
   "execution_count": 47,
   "metadata": {},
   "outputs": [
    {
     "data": {
      "text/html": [
       "<style  type=\"text/css\" >\n",
       "    #T_1c1c817a_ea63_11e8_a6ad_4ccc6a0cc2e1row0_col0 {\n",
       "            background-color:  #008066;\n",
       "        }    #T_1c1c817a_ea63_11e8_a6ad_4ccc6a0cc2e1row0_col1 {\n",
       "            background-color:  #ffff66;\n",
       "        }    #T_1c1c817a_ea63_11e8_a6ad_4ccc6a0cc2e1row0_col2 {\n",
       "            background-color:  #008066;\n",
       "        }    #T_1c1c817a_ea63_11e8_a6ad_4ccc6a0cc2e1row0_col3 {\n",
       "            background-color:  #008066;\n",
       "        }    #T_1c1c817a_ea63_11e8_a6ad_4ccc6a0cc2e1row0_col4 {\n",
       "            background-color:  #008066;\n",
       "        }    #T_1c1c817a_ea63_11e8_a6ad_4ccc6a0cc2e1row0_col5 {\n",
       "            background-color:  #ffff66;\n",
       "        }    #T_1c1c817a_ea63_11e8_a6ad_4ccc6a0cc2e1row0_col6 {\n",
       "            background-color:  #ffff66;\n",
       "        }    #T_1c1c817a_ea63_11e8_a6ad_4ccc6a0cc2e1row0_col7 {\n",
       "            background-color:  #ffff66;\n",
       "        }    #T_1c1c817a_ea63_11e8_a6ad_4ccc6a0cc2e1row0_col8 {\n",
       "            background-color:  #ffff66;\n",
       "        }    #T_1c1c817a_ea63_11e8_a6ad_4ccc6a0cc2e1row0_col9 {\n",
       "            background-color:  #ffff66;\n",
       "        }    #T_1c1c817a_ea63_11e8_a6ad_4ccc6a0cc2e1row0_col10 {\n",
       "            background-color:  #ffff66;\n",
       "        }    #T_1c1c817a_ea63_11e8_a6ad_4ccc6a0cc2e1row0_col11 {\n",
       "            background-color:  #008066;\n",
       "        }    #T_1c1c817a_ea63_11e8_a6ad_4ccc6a0cc2e1row0_col12 {\n",
       "            background-color:  #ffff66;\n",
       "        }    #T_1c1c817a_ea63_11e8_a6ad_4ccc6a0cc2e1row0_col13 {\n",
       "            background-color:  #ffff66;\n",
       "        }    #T_1c1c817a_ea63_11e8_a6ad_4ccc6a0cc2e1row0_col14 {\n",
       "            background-color:  #008066;\n",
       "        }    #T_1c1c817a_ea63_11e8_a6ad_4ccc6a0cc2e1row0_col15 {\n",
       "            background-color:  #ffff66;\n",
       "        }    #T_1c1c817a_ea63_11e8_a6ad_4ccc6a0cc2e1row0_col16 {\n",
       "            background-color:  #ffff66;\n",
       "        }    #T_1c1c817a_ea63_11e8_a6ad_4ccc6a0cc2e1row1_col0 {\n",
       "            background-color:  #ffff66;\n",
       "        }    #T_1c1c817a_ea63_11e8_a6ad_4ccc6a0cc2e1row1_col1 {\n",
       "            background-color:  #ffff66;\n",
       "        }    #T_1c1c817a_ea63_11e8_a6ad_4ccc6a0cc2e1row1_col2 {\n",
       "            background-color:  #ffff66;\n",
       "        }    #T_1c1c817a_ea63_11e8_a6ad_4ccc6a0cc2e1row1_col3 {\n",
       "            background-color:  #ffff66;\n",
       "        }    #T_1c1c817a_ea63_11e8_a6ad_4ccc6a0cc2e1row1_col4 {\n",
       "            background-color:  #ffff66;\n",
       "        }    #T_1c1c817a_ea63_11e8_a6ad_4ccc6a0cc2e1row1_col5 {\n",
       "            background-color:  #008066;\n",
       "        }    #T_1c1c817a_ea63_11e8_a6ad_4ccc6a0cc2e1row1_col6 {\n",
       "            background-color:  #ffff66;\n",
       "        }    #T_1c1c817a_ea63_11e8_a6ad_4ccc6a0cc2e1row1_col7 {\n",
       "            background-color:  #008066;\n",
       "        }    #T_1c1c817a_ea63_11e8_a6ad_4ccc6a0cc2e1row1_col8 {\n",
       "            background-color:  #008066;\n",
       "        }    #T_1c1c817a_ea63_11e8_a6ad_4ccc6a0cc2e1row1_col9 {\n",
       "            background-color:  #008066;\n",
       "        }    #T_1c1c817a_ea63_11e8_a6ad_4ccc6a0cc2e1row1_col10 {\n",
       "            background-color:  #008066;\n",
       "        }    #T_1c1c817a_ea63_11e8_a6ad_4ccc6a0cc2e1row1_col11 {\n",
       "            background-color:  #ffff66;\n",
       "        }    #T_1c1c817a_ea63_11e8_a6ad_4ccc6a0cc2e1row1_col12 {\n",
       "            background-color:  #008066;\n",
       "        }    #T_1c1c817a_ea63_11e8_a6ad_4ccc6a0cc2e1row1_col13 {\n",
       "            background-color:  #008066;\n",
       "        }    #T_1c1c817a_ea63_11e8_a6ad_4ccc6a0cc2e1row1_col14 {\n",
       "            background-color:  #ffff66;\n",
       "        }    #T_1c1c817a_ea63_11e8_a6ad_4ccc6a0cc2e1row1_col15 {\n",
       "            background-color:  #008066;\n",
       "        }    #T_1c1c817a_ea63_11e8_a6ad_4ccc6a0cc2e1row1_col16 {\n",
       "            background-color:  #008066;\n",
       "        }</style>  \n",
       "<table id=\"T_1c1c817a_ea63_11e8_a6ad_4ccc6a0cc2e1\" > \n",
       "<thead>    <tr> \n",
       "        <th class=\"index_name level0\" >Title1</th> \n",
       "        <th class=\"col_heading level0 col0\" > Capt</th> \n",
       "        <th class=\"col_heading level0 col1\" > Col</th> \n",
       "        <th class=\"col_heading level0 col2\" > Don</th> \n",
       "        <th class=\"col_heading level0 col3\" > Dr</th> \n",
       "        <th class=\"col_heading level0 col4\" > Jonkheer</th> \n",
       "        <th class=\"col_heading level0 col5\" > Lady</th> \n",
       "        <th class=\"col_heading level0 col6\" > Major</th> \n",
       "        <th class=\"col_heading level0 col7\" > Master</th> \n",
       "        <th class=\"col_heading level0 col8\" > Miss</th> \n",
       "        <th class=\"col_heading level0 col9\" > Mlle</th> \n",
       "        <th class=\"col_heading level0 col10\" > Mme</th> \n",
       "        <th class=\"col_heading level0 col11\" > Mr</th> \n",
       "        <th class=\"col_heading level0 col12\" > Mrs</th> \n",
       "        <th class=\"col_heading level0 col13\" > Ms</th> \n",
       "        <th class=\"col_heading level0 col14\" > Rev</th> \n",
       "        <th class=\"col_heading level0 col15\" > Sir</th> \n",
       "        <th class=\"col_heading level0 col16\" > the Countess</th> \n",
       "    </tr>    <tr> \n",
       "        <th class=\"index_name level0\" >Survived</th> \n",
       "        <th class=\"blank\" ></th> \n",
       "        <th class=\"blank\" ></th> \n",
       "        <th class=\"blank\" ></th> \n",
       "        <th class=\"blank\" ></th> \n",
       "        <th class=\"blank\" ></th> \n",
       "        <th class=\"blank\" ></th> \n",
       "        <th class=\"blank\" ></th> \n",
       "        <th class=\"blank\" ></th> \n",
       "        <th class=\"blank\" ></th> \n",
       "        <th class=\"blank\" ></th> \n",
       "        <th class=\"blank\" ></th> \n",
       "        <th class=\"blank\" ></th> \n",
       "        <th class=\"blank\" ></th> \n",
       "        <th class=\"blank\" ></th> \n",
       "        <th class=\"blank\" ></th> \n",
       "        <th class=\"blank\" ></th> \n",
       "        <th class=\"blank\" ></th> \n",
       "    </tr></thead> \n",
       "<tbody>    <tr> \n",
       "        <th id=\"T_1c1c817a_ea63_11e8_a6ad_4ccc6a0cc2e1level0_row0\" class=\"row_heading level0 row0\" >0.0</th> \n",
       "        <td id=\"T_1c1c817a_ea63_11e8_a6ad_4ccc6a0cc2e1row0_col0\" class=\"data row0 col0\" >1</td> \n",
       "        <td id=\"T_1c1c817a_ea63_11e8_a6ad_4ccc6a0cc2e1row0_col1\" class=\"data row0 col1\" >1</td> \n",
       "        <td id=\"T_1c1c817a_ea63_11e8_a6ad_4ccc6a0cc2e1row0_col2\" class=\"data row0 col2\" >1</td> \n",
       "        <td id=\"T_1c1c817a_ea63_11e8_a6ad_4ccc6a0cc2e1row0_col3\" class=\"data row0 col3\" >4</td> \n",
       "        <td id=\"T_1c1c817a_ea63_11e8_a6ad_4ccc6a0cc2e1row0_col4\" class=\"data row0 col4\" >1</td> \n",
       "        <td id=\"T_1c1c817a_ea63_11e8_a6ad_4ccc6a0cc2e1row0_col5\" class=\"data row0 col5\" >0</td> \n",
       "        <td id=\"T_1c1c817a_ea63_11e8_a6ad_4ccc6a0cc2e1row0_col6\" class=\"data row0 col6\" >1</td> \n",
       "        <td id=\"T_1c1c817a_ea63_11e8_a6ad_4ccc6a0cc2e1row0_col7\" class=\"data row0 col7\" >17</td> \n",
       "        <td id=\"T_1c1c817a_ea63_11e8_a6ad_4ccc6a0cc2e1row0_col8\" class=\"data row0 col8\" >55</td> \n",
       "        <td id=\"T_1c1c817a_ea63_11e8_a6ad_4ccc6a0cc2e1row0_col9\" class=\"data row0 col9\" >0</td> \n",
       "        <td id=\"T_1c1c817a_ea63_11e8_a6ad_4ccc6a0cc2e1row0_col10\" class=\"data row0 col10\" >0</td> \n",
       "        <td id=\"T_1c1c817a_ea63_11e8_a6ad_4ccc6a0cc2e1row0_col11\" class=\"data row0 col11\" >436</td> \n",
       "        <td id=\"T_1c1c817a_ea63_11e8_a6ad_4ccc6a0cc2e1row0_col12\" class=\"data row0 col12\" >26</td> \n",
       "        <td id=\"T_1c1c817a_ea63_11e8_a6ad_4ccc6a0cc2e1row0_col13\" class=\"data row0 col13\" >0</td> \n",
       "        <td id=\"T_1c1c817a_ea63_11e8_a6ad_4ccc6a0cc2e1row0_col14\" class=\"data row0 col14\" >6</td> \n",
       "        <td id=\"T_1c1c817a_ea63_11e8_a6ad_4ccc6a0cc2e1row0_col15\" class=\"data row0 col15\" >0</td> \n",
       "        <td id=\"T_1c1c817a_ea63_11e8_a6ad_4ccc6a0cc2e1row0_col16\" class=\"data row0 col16\" >0</td> \n",
       "    </tr>    <tr> \n",
       "        <th id=\"T_1c1c817a_ea63_11e8_a6ad_4ccc6a0cc2e1level0_row1\" class=\"row_heading level0 row1\" >1.0</th> \n",
       "        <td id=\"T_1c1c817a_ea63_11e8_a6ad_4ccc6a0cc2e1row1_col0\" class=\"data row1 col0\" >0</td> \n",
       "        <td id=\"T_1c1c817a_ea63_11e8_a6ad_4ccc6a0cc2e1row1_col1\" class=\"data row1 col1\" >1</td> \n",
       "        <td id=\"T_1c1c817a_ea63_11e8_a6ad_4ccc6a0cc2e1row1_col2\" class=\"data row1 col2\" >0</td> \n",
       "        <td id=\"T_1c1c817a_ea63_11e8_a6ad_4ccc6a0cc2e1row1_col3\" class=\"data row1 col3\" >3</td> \n",
       "        <td id=\"T_1c1c817a_ea63_11e8_a6ad_4ccc6a0cc2e1row1_col4\" class=\"data row1 col4\" >0</td> \n",
       "        <td id=\"T_1c1c817a_ea63_11e8_a6ad_4ccc6a0cc2e1row1_col5\" class=\"data row1 col5\" >1</td> \n",
       "        <td id=\"T_1c1c817a_ea63_11e8_a6ad_4ccc6a0cc2e1row1_col6\" class=\"data row1 col6\" >1</td> \n",
       "        <td id=\"T_1c1c817a_ea63_11e8_a6ad_4ccc6a0cc2e1row1_col7\" class=\"data row1 col7\" >23</td> \n",
       "        <td id=\"T_1c1c817a_ea63_11e8_a6ad_4ccc6a0cc2e1row1_col8\" class=\"data row1 col8\" >127</td> \n",
       "        <td id=\"T_1c1c817a_ea63_11e8_a6ad_4ccc6a0cc2e1row1_col9\" class=\"data row1 col9\" >2</td> \n",
       "        <td id=\"T_1c1c817a_ea63_11e8_a6ad_4ccc6a0cc2e1row1_col10\" class=\"data row1 col10\" >1</td> \n",
       "        <td id=\"T_1c1c817a_ea63_11e8_a6ad_4ccc6a0cc2e1row1_col11\" class=\"data row1 col11\" >81</td> \n",
       "        <td id=\"T_1c1c817a_ea63_11e8_a6ad_4ccc6a0cc2e1row1_col12\" class=\"data row1 col12\" >99</td> \n",
       "        <td id=\"T_1c1c817a_ea63_11e8_a6ad_4ccc6a0cc2e1row1_col13\" class=\"data row1 col13\" >1</td> \n",
       "        <td id=\"T_1c1c817a_ea63_11e8_a6ad_4ccc6a0cc2e1row1_col14\" class=\"data row1 col14\" >0</td> \n",
       "        <td id=\"T_1c1c817a_ea63_11e8_a6ad_4ccc6a0cc2e1row1_col15\" class=\"data row1 col15\" >1</td> \n",
       "        <td id=\"T_1c1c817a_ea63_11e8_a6ad_4ccc6a0cc2e1row1_col16\" class=\"data row1 col16\" >1</td> \n",
       "    </tr></tbody> \n",
       "</table> "
      ],
      "text/plain": [
       "<pandas.io.formats.style.Styler at 0xcdd7d68>"
      ]
     },
     "execution_count": 47,
     "metadata": {},
     "output_type": "execute_result"
    }
   ],
   "source": [
    "pd.crosstab(data['Title1'] ,data['Survived']).T.style.background_gradient(cmap='summer_r')"
   ]
  },
  {
   "cell_type": "code",
   "execution_count": 27,
   "metadata": {},
   "outputs": [
    {
     "data": {
      "text/plain": [
       "Title1\n",
       " Capt            70.000000\n",
       " Col             54.000000\n",
       " Don             40.000000\n",
       " Dona            39.000000\n",
       " Dr              43.571429\n",
       " Jonkheer        38.000000\n",
       " Lady            48.000000\n",
       " Major           48.500000\n",
       " Master           5.482642\n",
       " Miss            21.774238\n",
       " Mlle            24.000000\n",
       " Mme             24.000000\n",
       " Mr              32.252151\n",
       " Mrs             36.994118\n",
       " Ms              28.000000\n",
       " Rev             41.250000\n",
       " Sir             49.000000\n",
       " the Countess    33.000000\n",
       "Name: Age, dtype: float64"
      ]
     },
     "execution_count": 27,
     "metadata": {},
     "output_type": "execute_result"
    }
   ],
   "source": [
    "data.groupby(['Title1'])['Age'].mean()"
   ]
  },
  {
   "cell_type": "code",
   "execution_count": 158,
   "metadata": {},
   "outputs": [
    {
     "data": {
      "text/plain": [
       "0       Mr\n",
       "1      Mrs\n",
       "2     Miss\n",
       "3      Mrs\n",
       "4       Mr\n",
       "Name: Title1, dtype: object"
      ]
     },
     "execution_count": 158,
     "metadata": {},
     "output_type": "execute_result"
    }
   ],
   "source": [
    "data['Title1'].head()\n"
   ]
  },
  {
   "cell_type": "code",
   "execution_count": 165,
   "metadata": {},
   "outputs": [],
   "source": [
    "data['Title2'] = data['Title1'].replace('Mlle','Miss')\n",
    "#data['Title2'] = df['Title1'].replace(['Mlle','Mme','Ms','Dr','Major','Lady','the Countess','Jonkheer','Col','Rev','Capt','Sir','Don','Dona'],\n",
    "#                                        ['Miss','Mrs','Miss','Mr','Mr','Mrs','Mrs','Mr','Mr','Mr','Mr','Mr','Mr','Mrs'],inplace=True )"
   ]
  },
  {
   "cell_type": "code",
   "execution_count": 166,
   "metadata": {},
   "outputs": [
    {
     "data": {
      "text/plain": [
       "array([' Mr', ' Mrs', ' Miss', ' Master', ' Don', ' Rev', ' Dr', ' Mme',\n",
       "       ' Ms', ' Major', ' Lady', ' Sir', ' Mlle', ' Col', ' Capt',\n",
       "       ' the Countess', ' Jonkheer', ' Dona'], dtype=object)"
      ]
     },
     "execution_count": 166,
     "metadata": {},
     "output_type": "execute_result"
    }
   ],
   "source": [
    "data['Title2'].unique()"
   ]
  },
  {
   "cell_type": "code",
   "execution_count": 162,
   "metadata": {},
   "outputs": [
    {
     "data": {
      "text/plain": [
       "Series([], Name: Age, dtype: float64)"
      ]
     },
     "execution_count": 162,
     "metadata": {},
     "output_type": "execute_result"
    }
   ],
   "source": [
    "data.groupby('Title2')['Age'].mean()"
   ]
  },
  {
   "cell_type": "code",
   "execution_count": null,
   "metadata": {},
   "outputs": [],
   "source": []
  }
 ],
 "metadata": {
  "kernelspec": {
   "display_name": "Python 3",
   "language": "python",
   "name": "python3"
  },
  "language_info": {
   "codemirror_mode": {
    "name": "ipython",
    "version": 3
   },
   "file_extension": ".py",
   "mimetype": "text/x-python",
   "name": "python",
   "nbconvert_exporter": "python",
   "pygments_lexer": "ipython3",
   "version": "3.7.0"
  }
 },
 "nbformat": 4,
 "nbformat_minor": 2
}
